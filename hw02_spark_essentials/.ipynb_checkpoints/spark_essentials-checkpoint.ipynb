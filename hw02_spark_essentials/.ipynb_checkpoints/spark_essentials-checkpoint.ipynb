{
 "cells": [
  {
   "cell_type": "code",
   "execution_count": 1,
   "metadata": {},
   "outputs": [
    {
     "data": {
      "text/plain": [
       "\u001b[32mimport \u001b[39m\u001b[36m$ivy.$                                   // Or use any other 2.x version here\n",
       "// import $ivy.`sh.almond::almond-spark:0.10.9` \u001b[39m"
      ]
     },
     "execution_count": 1,
     "metadata": {},
     "output_type": "execute_result"
    }
   ],
   "source": [
    "import $ivy.`org.apache.spark::spark-sql:2.4.4` // Or use any other 2.x version here\n",
    "// import $ivy.`sh.almond::almond-spark:0.10.9` "
   ]
  },
  {
   "cell_type": "code",
   "execution_count": 2,
   "metadata": {},
   "outputs": [
    {
     "data": {
      "text/plain": [
       "\u001b[32mimport \u001b[39m\u001b[36morg.apache.log4j.{Level, Logger}\n",
       "\u001b[39m"
      ]
     },
     "execution_count": 2,
     "metadata": {},
     "output_type": "execute_result"
    }
   ],
   "source": [
    "import org.apache.log4j.{Level, Logger}\n",
    "Logger.getLogger(\"org\").setLevel(Level.OFF)\n"
   ]
  },
  {
   "cell_type": "code",
   "execution_count": 10,
   "metadata": {},
   "outputs": [
    {
     "data": {
      "text/plain": [
       "\u001b[32mimport \u001b[39m\u001b[36morg.apache.spark.sql._\n",
       "\u001b[39m\n",
       "\u001b[32mimport \u001b[39m\u001b[36mspark.implicits._\u001b[39m"
      ]
     },
     "execution_count": 10,
     "metadata": {},
     "output_type": "execute_result"
    }
   ],
   "source": [
    "import org.apache.spark.sql._\n",
    "import spark.implicits._"
   ]
  },
  {
   "cell_type": "code",
   "execution_count": 11,
   "metadata": {},
   "outputs": [
    {
     "data": {
      "text/plain": [
       "\u001b[36mspark\u001b[39m: \u001b[32mSparkSession\u001b[39m = org.apache.spark.sql.SparkSession@1711aacd"
      ]
     },
     "execution_count": 11,
     "metadata": {},
     "output_type": "execute_result"
    }
   ],
   "source": [
    "val spark = {\n",
    "  SparkSession.builder()\n",
    "    .master(\"local[*]\")\n",
    "    .config(\"spark.testing.memory\", 471859200)\n",
    "    .config(\"spark.executor.instances\", \"4\")\n",
    "    .config(\"spark.executor.memory\", \"2g\")\n",
    "    .getOrCreate()\n",
    "}"
   ]
  },
  {
   "cell_type": "code",
   "execution_count": 12,
   "metadata": {},
   "outputs": [
    {
     "data": {
      "text/plain": [
       "\u001b[36mdf\u001b[39m: \u001b[32mDataFrame\u001b[39m = [instanceId_userId: int, instanceId_objectType: string ... 167 more fields]"
      ]
     },
     "execution_count": 12,
     "metadata": {},
     "output_type": "execute_result"
    }
   ],
   "source": [
    "val df = spark.read.format(\"parquet\").load(\"data/train\")"
   ]
  },
  {
   "cell_type": "code",
   "execution_count": 12,
   "metadata": {},
   "outputs": [],
   "source": [
    "//  посмотрим на список колонок\n",
    "/*\n",
    "for (c <- df.columns) {\n",
    "    println(c)\n",
    "}\n",
    "*/"
   ]
  },
  {
   "cell_type": "code",
   "execution_count": 13,
   "metadata": {},
   "outputs": [
    {
     "data": {
      "text/plain": [
       "\u001b[36mdf_exp\u001b[39m: \u001b[32mDataFrame\u001b[39m = [instanceId_userId: int, instanceId_objectType: string ... 168 more fields]"
      ]
     },
     "execution_count": 13,
     "metadata": {},
     "output_type": "execute_result"
    }
   ],
   "source": [
    "df.createOrReplaceTempView(\"trainDF\")\n",
    "val df_exp = spark.sql(\"\"\"\n",
    "    select t.*, explode(feedback) as fb_exp from trainDF t \n",
    "\"\"\")\n",
    "df_exp.createOrReplaceTempView(\"trainDF_exp\")"
   ]
  },
  {
   "cell_type": "markdown",
   "metadata": {},
   "source": [
    "# Задание 1 - Постройте топ популярных групп на портале"
   ]
  },
  {
   "cell_type": "code",
   "execution_count": 14,
   "metadata": {},
   "outputs": [
    {
     "name": "stdout",
     "output_type": "stream",
     "text": [
      "+----------------+--------+\n",
      "|metadata_ownerId|like_cnt|\n",
      "+----------------+--------+\n",
      "|           37463|   16726|\n",
      "|           11222|   12301|\n",
      "|           18942|   10160|\n",
      "|           14285|   10024|\n",
      "|           62833|    9428|\n",
      "|           26843|    8779|\n",
      "|           19481|    8717|\n",
      "|           79619|    8519|\n",
      "|           11058|    8384|\n",
      "|           26735|    7770|\n",
      "+----------------+--------+\n",
      "only showing top 10 rows\n",
      "\n"
     ]
    }
   ],
   "source": [
    "spark.sql(\"\"\"\n",
    "    select metadata_ownerId, count(*) as like_cnt from trainDF_exp\n",
    "    where fb_exp = 'Liked'\n",
    "    group by metadata_ownerId\n",
    "    order by like_cnt desc\n",
    "\"\"\").show(10)"
   ]
  },
  {
   "cell_type": "markdown",
   "metadata": {},
   "source": [
    "# Задание 2 - Построите гистограммы популярности/активности групп на портале по времени суток"
   ]
  },
  {
   "cell_type": "code",
   "execution_count": 15,
   "metadata": {},
   "outputs": [
    {
     "name": "stdout",
     "output_type": "stream",
     "text": [
      "+---------+\n",
      "|   fb_exp|\n",
      "+---------+\n",
      "|Commented|\n",
      "|   Viewed|\n",
      "| ReShared|\n",
      "|  Clicked|\n",
      "|Complaint|\n",
      "|  Ignored|\n",
      "| Disliked|\n",
      "|    Liked|\n",
      "|  Unliked|\n",
      "+---------+\n",
      "\n"
     ]
    }
   ],
   "source": [
    "spark.sql(\"\"\"\n",
    "    select distinct fb_exp from trainDF_exp\n",
    "\"\"\").show()"
   ]
  },
  {
   "cell_type": "code",
   "execution_count": 16,
   "metadata": {},
   "outputs": [
    {
     "data": {
      "text/plain": [
       "\u001b[36mactivityDF\u001b[39m: \u001b[32mDataset\u001b[39m[\u001b[32mRow\u001b[39m] = [created_hour_a: string, cnt_a: bigint]\n",
       "\u001b[36mpopularityDF\u001b[39m: \u001b[32mDataset\u001b[39m[\u001b[32mRow\u001b[39m] = [created_hour_p: string, cnt_p: bigint]"
      ]
     },
     "execution_count": 16,
     "metadata": {},
     "output_type": "execute_result"
    }
   ],
   "source": [
    "val activityDF = spark.sql(\"\"\"\n",
    "    select created_hour as created_hour_a, count(*) as cnt_a from (\n",
    "        select \n",
    "            from_unixtime(metadata_createdAt, 'HH') as created_hour\n",
    "            , fb_exp\n",
    "        from trainDF_exp \n",
    "        where fb_exp <> 'Ignored'\n",
    "    ) \n",
    "    group by created_hour\n",
    "\"\"\").as(\"df_activity\")\n",
    "\n",
    "val popularityDF = spark.sql(\"\"\"\n",
    "    select created_hour as created_hour_p, count(*) as cnt_p from (\n",
    "        select \n",
    "            from_unixtime(metadata_createdAt, 'HH') as created_hour\n",
    "            , fb_exp\n",
    "        from trainDF_exp \n",
    "        where fb_exp = 'Liked'\n",
    "    ) \n",
    "    group by created_hour\n",
    "\"\"\").as(\"df_popularity\")\n",
    "\n"
   ]
  },
  {
   "cell_type": "code",
   "execution_count": 17,
   "metadata": {},
   "outputs": [
    {
     "data": {
      "text/plain": [
       "\u001b[36mjoined_df\u001b[39m: \u001b[32mDataFrame\u001b[39m = [created_hour_a: string, cnt_a: bigint ... 2 more fields]"
      ]
     },
     "execution_count": 17,
     "metadata": {},
     "output_type": "execute_result"
    }
   ],
   "source": [
    "val joined_df = activityDF.join(\n",
    "popularityDF\n",
    ", $\"created_hour_a\" === $\"created_hour_p\"\n",
    ", \"inner\")"
   ]
  },
  {
   "cell_type": "code",
   "execution_count": 18,
   "metadata": {},
   "outputs": [
    {
     "name": "stdout",
     "output_type": "stream",
     "text": [
      "+--------------+------+--------------+------+\n",
      "|created_hour_a| cnt_a|created_hour_p| cnt_p|\n",
      "+--------------+------+--------------+------+\n",
      "|            07|340855|            07|142981|\n",
      "|            15|328408|            15|137408|\n",
      "|            11|317125|            11|132435|\n",
      "|            01|321707|            01|134482|\n",
      "|            22|307189|            22|128918|\n",
      "|            16|316001|            16|131774|\n",
      "|            18|326375|            18|134195|\n",
      "|            00|312314|            00|131087|\n",
      "|            17|325420|            17|134038|\n",
      "|            09|323576|            09|136853|\n",
      "|            05|320993|            05|135081|\n",
      "|            19|328067|            19|134972|\n",
      "|            23|328270|            23|138830|\n",
      "|            08|312593|            08|131175|\n",
      "|            03|315376|            03|132778|\n",
      "|            02|319148|            02|131933|\n",
      "|            06|313794|            06|131198|\n",
      "|            20|335332|            20|139733|\n",
      "|            10|323072|            10|135167|\n",
      "|            12|316304|            12|130546|\n",
      "|            04|325096|            04|136470|\n",
      "|            13|322514|            13|135089|\n",
      "|            14|303189|            14|127380|\n",
      "|            21|323341|            21|135906|\n",
      "+--------------+------+--------------+------+\n",
      "\n"
     ]
    }
   ],
   "source": [
    "joined_df.show(24)\n",
    "joined_df.createOrReplaceTempView(\"joined_df\")"
   ]
  },
  {
   "cell_type": "code",
   "execution_count": 19,
   "metadata": {},
   "outputs": [
    {
     "data": {
      "text/plain": [
       "\u001b[32mimport \u001b[39m\u001b[36m$ivy.$                                      \n",
       "\n",
       "\u001b[39m\n",
       "\u001b[32mimport \u001b[39m\u001b[36mplotly._\n",
       "\u001b[39m\n",
       "\u001b[32mimport \u001b[39m\u001b[36mplotly.element._\n",
       "\u001b[39m\n",
       "\u001b[32mimport \u001b[39m\u001b[36mplotly.layout._\n",
       "\u001b[39m\n",
       "\u001b[32mimport \u001b[39m\u001b[36mplotly.Almond._\n",
       "\n",
       "\u001b[39m"
      ]
     },
     "execution_count": 19,
     "metadata": {},
     "output_type": "execute_result"
    }
   ],
   "source": [
    "import $ivy.`org.plotly-scala::plotly-almond:0.7.0`\n",
    "\n",
    "import plotly._\n",
    "import plotly.element._\n",
    "import plotly.layout._\n",
    "import plotly.Almond._\n",
    "\n"
   ]
  },
  {
   "cell_type": "code",
   "execution_count": 26,
   "metadata": {},
   "outputs": [
    {
     "data": {
      "text/plain": [
       "\u001b[36mj_res\u001b[39m: \u001b[32mDataFrame\u001b[39m = [created_hour_a: string, cnt_a: bigint ... 1 more field]\n",
       "\u001b[36mhours\u001b[39m: \u001b[32mSeq\u001b[39m[\u001b[32mString\u001b[39m] = \u001b[33mList\u001b[39m(\n",
       "  \u001b[32m\"00h\"\u001b[39m,\n",
       "  \u001b[32m\"01h\"\u001b[39m,\n",
       "  \u001b[32m\"02h\"\u001b[39m,\n",
       "  \u001b[32m\"03h\"\u001b[39m,\n",
       "  \u001b[32m\"04h\"\u001b[39m,\n",
       "  \u001b[32m\"05h\"\u001b[39m,\n",
       "  \u001b[32m\"06h\"\u001b[39m,\n",
       "  \u001b[32m\"07h\"\u001b[39m,\n",
       "  \u001b[32m\"08h\"\u001b[39m,\n",
       "  \u001b[32m\"09h\"\u001b[39m,\n",
       "  \u001b[32m\"10h\"\u001b[39m,\n",
       "  \u001b[32m\"11h\"\u001b[39m,\n",
       "  \u001b[32m\"12h\"\u001b[39m,\n",
       "  \u001b[32m\"13h\"\u001b[39m,\n",
       "  \u001b[32m\"14h\"\u001b[39m,\n",
       "  \u001b[32m\"15h\"\u001b[39m,\n",
       "  \u001b[32m\"16h\"\u001b[39m,\n",
       "  \u001b[32m\"17h\"\u001b[39m,\n",
       "  \u001b[32m\"18h\"\u001b[39m,\n",
       "  \u001b[32m\"19h\"\u001b[39m,\n",
       "  \u001b[32m\"20h\"\u001b[39m,\n",
       "  \u001b[32m\"21h\"\u001b[39m,\n",
       "  \u001b[32m\"22h\"\u001b[39m,\n",
       "  \u001b[32m\"23h\"\u001b[39m\n",
       ")\n",
       "\u001b[36mcnt_a\u001b[39m: \u001b[32mSeq\u001b[39m[\u001b[32mInt\u001b[39m] = \u001b[33mList\u001b[39m(\n",
       "  \u001b[32m312314\u001b[39m,\n",
       "  \u001b[32m321707\u001b[39m,\n",
       "  \u001b[32m319148\u001b[39m,\n",
       "  \u001b[32m315376\u001b[39m,\n",
       "  \u001b[32m325096\u001b[39m,\n",
       "  \u001b[32m320993\u001b[39m,\n",
       "  \u001b[32m313794\u001b[39m,\n",
       "  \u001b[32m340855\u001b[39m,\n",
       "  \u001b[32m312593\u001b[39m,\n",
       "  \u001b[32m323576\u001b[39m,\n",
       "  \u001b[32m323072\u001b[39m,\n",
       "  \u001b[32m317125\u001b[39m,\n",
       "  \u001b[32m316304\u001b[39m,\n",
       "  \u001b[32m322514\u001b[39m,\n",
       "  \u001b[32m303189\u001b[39m,\n",
       "  \u001b[32m328408\u001b[39m,\n",
       "  \u001b[32m316001\u001b[39m,\n",
       "  \u001b[32m325420\u001b[39m,\n",
       "  \u001b[32m326375\u001b[39m,\n",
       "  \u001b[32m328067\u001b[39m,\n",
       "  \u001b[32m335332\u001b[39m,\n",
       "  \u001b[32m323341\u001b[39m,\n",
       "  \u001b[32m307189\u001b[39m,\n",
       "  \u001b[32m328270\u001b[39m\n",
       ")\n",
       "\u001b[36mcnt_p\u001b[39m: \u001b[32mSeq\u001b[39m[\u001b[32mInt\u001b[39m] = \u001b[33mList\u001b[39m(\n",
       "  \u001b[32m131087\u001b[39m,\n",
       "  \u001b[32m134482\u001b[39m,\n",
       "  \u001b[32m131933\u001b[39m,\n",
       "  \u001b[32m132778\u001b[39m,\n",
       "  \u001b[32m136470\u001b[39m,\n",
       "  \u001b[32m135081\u001b[39m,\n",
       "  \u001b[32m131198\u001b[39m,\n",
       "  \u001b[32m142981\u001b[39m,\n",
       "  \u001b[32m131175\u001b[39m,\n",
       "  \u001b[32m136853\u001b[39m,\n",
       "  \u001b[32m135167\u001b[39m,\n",
       "  \u001b[32m132435\u001b[39m,\n",
       "  \u001b[32m130546\u001b[39m,\n",
       "  \u001b[32m135089\u001b[39m,\n",
       "  \u001b[32m127380\u001b[39m,\n",
       "  \u001b[32m137408\u001b[39m,\n",
       "  \u001b[32m131774\u001b[39m,\n",
       "  \u001b[32m134038\u001b[39m,\n",
       "  \u001b[32m134195\u001b[39m,\n",
       "  \u001b[32m134972\u001b[39m,\n",
       "  \u001b[32m139733\u001b[39m,\n",
       "  \u001b[32m135906\u001b[39m,\n",
       "  \u001b[32m128918\u001b[39m,\n",
       "  \u001b[32m138830\u001b[39m\n",
       ")"
      ]
     },
     "execution_count": 26,
     "metadata": {},
     "output_type": "execute_result"
    }
   ],
   "source": [
    "val j_res = spark.sql(\"\"\"\n",
    "    select created_hour_a, cnt_a, cnt_p\n",
    "    from joined_df\n",
    "    order by created_hour_a\n",
    "\"\"\")\n",
    "\n",
    "\n",
    "var hours = Seq[String]()\n",
    "var cnt_a = Seq[Int]()\n",
    "var cnt_p = Seq[Int]()\n",
    "\n",
    "for (row <- j_res.collect()){\n",
    "    hours = hours :+ row(0).asInstanceOf[String] + 'h'\n",
    "    cnt_a = cnt_a :+ row(1).asInstanceOf[Long].toInt\n",
    "    cnt_p = cnt_p :+ row(2).asInstanceOf[Long].toInt\n",
    "}"
   ]
  },
  {
   "cell_type": "code",
   "execution_count": 29,
   "metadata": {},
   "outputs": [
    {
     "data": {
      "application/vnd.plotly.v1+json": {
       "data": [
        {
         "marker": {
          "color": "rgb(49, 130, 189)",
          "opacity": 0.7
         },
         "name": "Активность",
         "text": [
          "Час 00h",
          "Час 01h",
          "Час 02h",
          "Час 03h",
          "Час 04h",
          "Час 05h",
          "Час 06h",
          "Час 07h",
          "Час 08h",
          "Час 09h",
          "Час 10h",
          "Час 11h",
          "Час 12h",
          "Час 13h",
          "Час 14h",
          "Час 15h",
          "Час 16h",
          "Час 17h",
          "Час 18h",
          "Час 19h",
          "Час 20h",
          "Час 21h",
          "Час 22h",
          "Час 23h"
         ],
         "type": "bar",
         "x": [
          "00h",
          "01h",
          "02h",
          "03h",
          "04h",
          "05h",
          "06h",
          "07h",
          "08h",
          "09h",
          "10h",
          "11h",
          "12h",
          "13h",
          "14h",
          "15h",
          "16h",
          "17h",
          "18h",
          "19h",
          "20h",
          "21h",
          "22h",
          "23h"
         ],
         "y": [
          312314,
          321707,
          319148,
          315376,
          325096,
          320993,
          313794,
          340855,
          312593,
          323576,
          323072,
          317125,
          316304,
          322514,
          303189,
          328408,
          316001,
          325420,
          326375,
          328067,
          335332,
          323341,
          307189,
          328270
         ]
        },
        {
         "marker": {
          "color": "rgb(204, 0, 0)",
          "opacity": 0.7
         },
         "name": "Популярность",
         "text": [
          "Час 00h",
          "Час 01h",
          "Час 02h",
          "Час 03h",
          "Час 04h",
          "Час 05h",
          "Час 06h",
          "Час 07h",
          "Час 08h",
          "Час 09h",
          "Час 10h",
          "Час 11h",
          "Час 12h",
          "Час 13h",
          "Час 14h",
          "Час 15h",
          "Час 16h",
          "Час 17h",
          "Час 18h",
          "Час 19h",
          "Час 20h",
          "Час 21h",
          "Час 22h",
          "Час 23h"
         ],
         "type": "bar",
         "x": [
          "00h",
          "01h",
          "02h",
          "03h",
          "04h",
          "05h",
          "06h",
          "07h",
          "08h",
          "09h",
          "10h",
          "11h",
          "12h",
          "13h",
          "14h",
          "15h",
          "16h",
          "17h",
          "18h",
          "19h",
          "20h",
          "21h",
          "22h",
          "23h"
         ],
         "y": [
          131087,
          134482,
          131933,
          132778,
          136470,
          135081,
          131198,
          142981,
          131175,
          136853,
          135167,
          132435,
          130546,
          135089,
          127380,
          137408,
          131774,
          134038,
          134195,
          134972,
          139733,
          135906,
          128918,
          138830
         ]
        }
       ],
       "layout": {
        "title": "Данные активности и популярности групп по часам"
       }
      },
      "text/html": [
       "<div class=\"chart\" id=\"plot-6c855423-43c2-43a5-a6bd-a6de4ee52cf4\"></div>\n",
       "<script>require(['plotly'], function(Plotly) {\n",
       "  (function () {\n",
       "  var data0 = {\"x\":[\"00h\",\"01h\",\"02h\",\"03h\",\"04h\",\"05h\",\"06h\",\"07h\",\"08h\",\"09h\",\"10h\",\"11h\",\"12h\",\"13h\",\"14h\",\"15h\",\"16h\",\"17h\",\"18h\",\"19h\",\"20h\",\"21h\",\"22h\",\"23h\"],\"name\":\"Активность\",\"y\":[312314.0,321707.0,319148.0,315376.0,325096.0,320993.0,313794.0,340855.0,312593.0,323576.0,323072.0,317125.0,316304.0,322514.0,303189.0,328408.0,316001.0,325420.0,326375.0,328067.0,335332.0,323341.0,307189.0,328270.0],\"marker\":{\"color\":\"rgb(49, 130, 189)\",\"opacity\":0.7},\"text\":[\"Час 00h\",\"Час 01h\",\"Час 02h\",\"Час 03h\",\"Час 04h\",\"Час 05h\",\"Час 06h\",\"Час 07h\",\"Час 08h\",\"Час 09h\",\"Час 10h\",\"Час 11h\",\"Час 12h\",\"Час 13h\",\"Час 14h\",\"Час 15h\",\"Час 16h\",\"Час 17h\",\"Час 18h\",\"Час 19h\",\"Час 20h\",\"Час 21h\",\"Час 22h\",\"Час 23h\"],\"type\":\"bar\"};\n",
       "  var data1 = {\"x\":[\"00h\",\"01h\",\"02h\",\"03h\",\"04h\",\"05h\",\"06h\",\"07h\",\"08h\",\"09h\",\"10h\",\"11h\",\"12h\",\"13h\",\"14h\",\"15h\",\"16h\",\"17h\",\"18h\",\"19h\",\"20h\",\"21h\",\"22h\",\"23h\"],\"name\":\"Популярность\",\"y\":[131087.0,134482.0,131933.0,132778.0,136470.0,135081.0,131198.0,142981.0,131175.0,136853.0,135167.0,132435.0,130546.0,135089.0,127380.0,137408.0,131774.0,134038.0,134195.0,134972.0,139733.0,135906.0,128918.0,138830.0],\"marker\":{\"color\":\"rgb(204, 0, 0)\",\"opacity\":0.7},\"text\":[\"Час 00h\",\"Час 01h\",\"Час 02h\",\"Час 03h\",\"Час 04h\",\"Час 05h\",\"Час 06h\",\"Час 07h\",\"Час 08h\",\"Час 09h\",\"Час 10h\",\"Час 11h\",\"Час 12h\",\"Час 13h\",\"Час 14h\",\"Час 15h\",\"Час 16h\",\"Час 17h\",\"Час 18h\",\"Час 19h\",\"Час 20h\",\"Час 21h\",\"Час 22h\",\"Час 23h\"],\"type\":\"bar\"};\n",
       "\n",
       "  var data = [data0, data1];\n",
       "  var layout = {\"title\":\"Данные активности и популярности групп по часам\"};\n",
       "\n",
       "  Plotly.plot('plot-6c855423-43c2-43a5-a6bd-a6de4ee52cf4', data, layout);\n",
       "})();\n",
       "});\n",
       "      </script>\n",
       "           "
      ]
     },
     "metadata": {},
     "output_type": "display_data"
    },
    {
     "data": {
      "text/plain": [
       "\u001b[36mtrace1\u001b[39m: \u001b[32mBar\u001b[39m = \u001b[33mBar\u001b[39m(\n",
       "  \u001b[33mStrings\u001b[39m(\n",
       "    \u001b[33mList\u001b[39m(\n",
       "      \u001b[32m\"00h\"\u001b[39m,\n",
       "      \u001b[32m\"01h\"\u001b[39m,\n",
       "      \u001b[32m\"02h\"\u001b[39m,\n",
       "      \u001b[32m\"03h\"\u001b[39m,\n",
       "      \u001b[32m\"04h\"\u001b[39m,\n",
       "      \u001b[32m\"05h\"\u001b[39m,\n",
       "      \u001b[32m\"06h\"\u001b[39m,\n",
       "      \u001b[32m\"07h\"\u001b[39m,\n",
       "      \u001b[32m\"08h\"\u001b[39m,\n",
       "      \u001b[32m\"09h\"\u001b[39m,\n",
       "      \u001b[32m\"10h\"\u001b[39m,\n",
       "      \u001b[32m\"11h\"\u001b[39m,\n",
       "      \u001b[32m\"12h\"\u001b[39m,\n",
       "      \u001b[32m\"13h\"\u001b[39m,\n",
       "      \u001b[32m\"14h\"\u001b[39m,\n",
       "      \u001b[32m\"15h\"\u001b[39m,\n",
       "      \u001b[32m\"16h\"\u001b[39m,\n",
       "      \u001b[32m\"17h\"\u001b[39m,\n",
       "      \u001b[32m\"18h\"\u001b[39m,\n",
       "      \u001b[32m\"19h\"\u001b[39m,\n",
       "      \u001b[32m\"20h\"\u001b[39m,\n",
       "      \u001b[32m\"21h\"\u001b[39m,\n",
       "      \u001b[32m\"22h\"\u001b[39m,\n",
       "      \u001b[32m\"23h\"\u001b[39m\n",
       "    )\n",
       "  ),\n",
       "  \u001b[33mDoubles\u001b[39m(\n",
       "    \u001b[33mList\u001b[39m(\n",
       "      \u001b[32m312314.0\u001b[39m,\n",
       "      \u001b[32m321707.0\u001b[39m,\n",
       "      \u001b[32m319148.0\u001b[39m,\n",
       "      \u001b[32m315376.0\u001b[39m,\n",
       "      \u001b[32m325096.0\u001b[39m,\n",
       "      \u001b[32m320993.0\u001b[39m,\n",
       "      \u001b[32m313794.0\u001b[39m,\n",
       "      \u001b[32m340855.0\u001b[39m,\n",
       "...\n",
       "\u001b[36mtrace2\u001b[39m: \u001b[32mBar\u001b[39m = \u001b[33mBar\u001b[39m(\n",
       "  \u001b[33mStrings\u001b[39m(\n",
       "    \u001b[33mList\u001b[39m(\n",
       "      \u001b[32m\"00h\"\u001b[39m,\n",
       "      \u001b[32m\"01h\"\u001b[39m,\n",
       "      \u001b[32m\"02h\"\u001b[39m,\n",
       "      \u001b[32m\"03h\"\u001b[39m,\n",
       "      \u001b[32m\"04h\"\u001b[39m,\n",
       "      \u001b[32m\"05h\"\u001b[39m,\n",
       "      \u001b[32m\"06h\"\u001b[39m,\n",
       "      \u001b[32m\"07h\"\u001b[39m,\n",
       "      \u001b[32m\"08h\"\u001b[39m,\n",
       "      \u001b[32m\"09h\"\u001b[39m,\n",
       "      \u001b[32m\"10h\"\u001b[39m,\n",
       "      \u001b[32m\"11h\"\u001b[39m,\n",
       "      \u001b[32m\"12h\"\u001b[39m,\n",
       "      \u001b[32m\"13h\"\u001b[39m,\n",
       "      \u001b[32m\"14h\"\u001b[39m,\n",
       "      \u001b[32m\"15h\"\u001b[39m,\n",
       "      \u001b[32m\"16h\"\u001b[39m,\n",
       "      \u001b[32m\"17h\"\u001b[39m,\n",
       "      \u001b[32m\"18h\"\u001b[39m,\n",
       "      \u001b[32m\"19h\"\u001b[39m,\n",
       "      \u001b[32m\"20h\"\u001b[39m,\n",
       "      \u001b[32m\"21h\"\u001b[39m,\n",
       "      \u001b[32m\"22h\"\u001b[39m,\n",
       "      \u001b[32m\"23h\"\u001b[39m\n",
       "    )\n",
       "  ),\n",
       "  \u001b[33mDoubles\u001b[39m(\n",
       "    \u001b[33mList\u001b[39m(\n",
       "      \u001b[32m131087.0\u001b[39m,\n",
       "      \u001b[32m134482.0\u001b[39m,\n",
       "      \u001b[32m131933.0\u001b[39m,\n",
       "      \u001b[32m132778.0\u001b[39m,\n",
       "      \u001b[32m136470.0\u001b[39m,\n",
       "      \u001b[32m135081.0\u001b[39m,\n",
       "      \u001b[32m131198.0\u001b[39m,\n",
       "      \u001b[32m142981.0\u001b[39m,\n",
       "...\n",
       "\u001b[36mres28_2\u001b[39m: \u001b[32mString\u001b[39m = \u001b[32m\"plot-6c855423-43c2-43a5-a6bd-a6de4ee52cf4\"\u001b[39m"
      ]
     },
     "execution_count": 29,
     "metadata": {},
     "output_type": "execute_result"
    }
   ],
   "source": [
    "val trace1 = Bar(\n",
    "  hours,\n",
    "  cnt_a,\n",
    "  \"Активность\",\n",
    "  text = hours.map(x => \"Час \" + x),\n",
    "  // orientation = Orientation.Horizontal,\n",
    "  marker = Marker(\n",
    "    color = Color.RGB(49, 130, 189),\n",
    "    opacity = 0.7))\n",
    "\n",
    "val trace2 = Bar(\n",
    "  hours,\n",
    "  cnt_p,\n",
    "  \"Популярность\",\n",
    "  text = hours.map(x => \"Час \" + x),\n",
    "  // orientation = Orientation.Horizontal,\n",
    "  marker = Marker(\n",
    "    color = Color.RGB(204, 0, 0),\n",
    "    opacity = 0.7))\n",
    "\n",
    "Seq(trace1, trace2).plot(\"Данные активности и популярности групп по часам\")\n"
   ]
  },
  {
   "cell_type": "markdown",
   "metadata": {},
   "source": [
    "##### Посольку груфик не отображается в случае, если открыть ноутбук напрямую из гитхаба, продублирую его в виде картинки:"
   ]
  },
  {
   "cell_type": "markdown",
   "metadata": {},
   "source": [
    "<img src=\"activity_popularity.png\">"
   ]
  },
  {
   "cell_type": "code",
   "execution_count": null,
   "metadata": {},
   "outputs": [],
   "source": []
  },
  {
   "cell_type": "code",
   "execution_count": null,
   "metadata": {},
   "outputs": [],
   "source": []
  }
 ],
 "metadata": {
  "kernelspec": {
   "display_name": "Scala 2.11",
   "language": "scala",
   "name": "scala211"
  },
  "language_info": {
   "codemirror_mode": "text/x-scala",
   "file_extension": ".scala",
   "mimetype": "text/x-scala",
   "name": "scala",
   "nbconvert_exporter": "script",
   "version": "2.11.12"
  }
 },
 "nbformat": 4,
 "nbformat_minor": 2
}
