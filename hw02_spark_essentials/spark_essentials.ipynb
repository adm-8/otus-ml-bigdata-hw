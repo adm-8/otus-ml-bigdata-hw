{
 "cells": [
  {
   "cell_type": "code",
   "execution_count": 1,
   "metadata": {},
   "outputs": [
    {
     "data": {
      "text/plain": [
       "\u001b[32mimport \u001b[39m\u001b[36m$ivy.$                                   // Or use any other 2.x version here\n",
       "// import $ivy.`sh.almond::almond-spark:0.10.9` \u001b[39m"
      ]
     },
     "execution_count": 1,
     "metadata": {},
     "output_type": "execute_result"
    }
   ],
   "source": [
    "import $ivy.`org.apache.spark::spark-sql:2.4.4` // Or use any other 2.x version here\n",
    "// import $ivy.`sh.almond::almond-spark:0.10.9` "
   ]
  },
  {
   "cell_type": "code",
   "execution_count": 2,
   "metadata": {},
   "outputs": [
    {
     "data": {
      "text/plain": [
       "\u001b[32mimport \u001b[39m\u001b[36morg.apache.log4j.{Level, Logger}\n",
       "\u001b[39m"
      ]
     },
     "execution_count": 2,
     "metadata": {},
     "output_type": "execute_result"
    }
   ],
   "source": [
    "import org.apache.log4j.{Level, Logger}\n",
    "Logger.getLogger(\"org\").setLevel(Level.OFF)\n"
   ]
  },
  {
   "cell_type": "code",
   "execution_count": 7,
   "metadata": {},
   "outputs": [
    {
     "data": {
      "text/plain": [
       "\u001b[32mimport \u001b[39m\u001b[36morg.apache.spark.sql._\n",
       "\u001b[39m\n",
       "\u001b[32mimport \u001b[39m\u001b[36mspark.implicits._\u001b[39m"
      ]
     },
     "execution_count": 7,
     "metadata": {},
     "output_type": "execute_result"
    }
   ],
   "source": [
    "import org.apache.spark.sql._\n",
    "import spark.implicits._"
   ]
  },
  {
   "cell_type": "code",
   "execution_count": 8,
   "metadata": {},
   "outputs": [
    {
     "data": {
      "text/plain": [
       "\u001b[36mspark\u001b[39m: \u001b[32mSparkSession\u001b[39m = org.apache.spark.sql.SparkSession@79f04275"
      ]
     },
     "execution_count": 8,
     "metadata": {},
     "output_type": "execute_result"
    }
   ],
   "source": [
    "val spark = {\n",
    "  SparkSession.builder()\n",
    "    .master(\"local[*]\")\n",
    "    .config(\"spark.testing.memory\", 471859200)\n",
    "    .config(\"spark.executor.instances\", \"4\")\n",
    "    .config(\"spark.executor.memory\", \"2g\")\n",
    "    .getOrCreate()\n",
    "}"
   ]
  },
  {
   "cell_type": "code",
   "execution_count": 9,
   "metadata": {},
   "outputs": [
    {
     "data": {
      "text/plain": [
       "\u001b[36mdf\u001b[39m: \u001b[32mDataFrame\u001b[39m = [instanceId_userId: int, instanceId_objectType: string ... 167 more fields]"
      ]
     },
     "execution_count": 9,
     "metadata": {},
     "output_type": "execute_result"
    }
   ],
   "source": [
    "val df = spark.read.format(\"parquet\").load(\"data/train\")"
   ]
  },
  {
   "cell_type": "code",
   "execution_count": 10,
   "metadata": {},
   "outputs": [
    {
     "name": "stdout",
     "output_type": "stream",
     "text": [
      "instanceId_userId\n",
      "instanceId_objectType\n",
      "instanceId_objectId\n",
      "audit_pos\n",
      "audit_clientType\n",
      "audit_timestamp\n",
      "audit_timePassed\n",
      "audit_experiment\n",
      "audit_resourceType\n",
      "metadata_ownerId\n",
      "metadata_ownerType\n",
      "metadata_createdAt\n",
      "metadata_authorId\n",
      "metadata_applicationId\n",
      "metadata_numCompanions\n",
      "metadata_numPhotos\n",
      "metadata_numPolls\n",
      "metadata_numSymbols\n",
      "metadata_numTokens\n",
      "metadata_numVideos\n",
      "metadata_platform\n",
      "metadata_totalVideoLength\n",
      "metadata_options\n",
      "relationsMask\n",
      "userOwnerCounters_USER_FEED_REMOVE\n",
      "userOwnerCounters_USER_PROFILE_VIEW\n",
      "userOwnerCounters_VOTE_POLL\n",
      "userOwnerCounters_USER_SEND_MESSAGE\n",
      "userOwnerCounters_USER_DELETE_MESSAGE\n",
      "userOwnerCounters_USER_INTERNAL_LIKE\n",
      "userOwnerCounters_USER_INTERNAL_UNLIKE\n",
      "userOwnerCounters_USER_STATUS_COMMENT_CREATE\n",
      "userOwnerCounters_PHOTO_COMMENT_CREATE\n",
      "userOwnerCounters_MOVIE_COMMENT_CREATE\n",
      "userOwnerCounters_USER_PHOTO_ALBUM_COMMENT_CREATE\n",
      "userOwnerCounters_COMMENT_INTERNAL_LIKE\n",
      "userOwnerCounters_USER_FORUM_MESSAGE_CREATE\n",
      "userOwnerCounters_PHOTO_MARK_CREATE\n",
      "userOwnerCounters_PHOTO_VIEW\n",
      "userOwnerCounters_PHOTO_PIN_BATCH_CREATE\n",
      "userOwnerCounters_PHOTO_PIN_UPDATE\n",
      "userOwnerCounters_USER_PRESENT_SEND\n",
      "userOwnerCounters_UNKNOWN\n",
      "userOwnerCounters_CREATE_TOPIC\n",
      "userOwnerCounters_CREATE_IMAGE\n",
      "userOwnerCounters_CREATE_MOVIE\n",
      "userOwnerCounters_CREATE_COMMENT\n",
      "userOwnerCounters_CREATE_LIKE\n",
      "userOwnerCounters_TEXT\n",
      "userOwnerCounters_IMAGE\n",
      "userOwnerCounters_VIDEO\n",
      "ownerUserCounters_USER_FEED_REMOVE\n",
      "ownerUserCounters_USER_PROFILE_VIEW\n",
      "ownerUserCounters_VOTE_POLL\n",
      "ownerUserCounters_USER_SEND_MESSAGE\n",
      "ownerUserCounters_USER_DELETE_MESSAGE\n",
      "ownerUserCounters_USER_INTERNAL_LIKE\n",
      "ownerUserCounters_USER_INTERNAL_UNLIKE\n",
      "ownerUserCounters_USER_STATUS_COMMENT_CREATE\n",
      "ownerUserCounters_PHOTO_COMMENT_CREATE\n",
      "ownerUserCounters_MOVIE_COMMENT_CREATE\n",
      "ownerUserCounters_USER_PHOTO_ALBUM_COMMENT_CREATE\n",
      "ownerUserCounters_COMMENT_INTERNAL_LIKE\n",
      "ownerUserCounters_USER_FORUM_MESSAGE_CREATE\n",
      "ownerUserCounters_PHOTO_MARK_CREATE\n",
      "ownerUserCounters_PHOTO_VIEW\n",
      "ownerUserCounters_PHOTO_PIN_BATCH_CREATE\n",
      "ownerUserCounters_PHOTO_PIN_UPDATE\n",
      "ownerUserCounters_USER_PRESENT_SEND\n",
      "ownerUserCounters_UNKNOWN\n",
      "ownerUserCounters_CREATE_TOPIC\n",
      "ownerUserCounters_CREATE_IMAGE\n",
      "ownerUserCounters_CREATE_MOVIE\n",
      "ownerUserCounters_CREATE_COMMENT\n",
      "ownerUserCounters_CREATE_LIKE\n",
      "ownerUserCounters_TEXT\n",
      "ownerUserCounters_IMAGE\n",
      "ownerUserCounters_VIDEO\n",
      "membership_status\n",
      "membership_statusUpdateDate\n",
      "membership_joinDate\n",
      "membership_joinRequestDate\n",
      "owner_create_date\n",
      "owner_birth_date\n",
      "owner_gender\n",
      "owner_status\n",
      "owner_ID_country\n",
      "owner_ID_Location\n",
      "owner_is_active\n",
      "owner_is_deleted\n",
      "owner_is_abused\n",
      "owner_is_activated\n",
      "owner_change_datime\n",
      "owner_is_semiactivated\n",
      "owner_region\n",
      "user_create_date\n",
      "user_birth_date\n",
      "user_gender\n",
      "user_status\n",
      "user_ID_country\n",
      "user_ID_Location\n",
      "user_is_active\n",
      "user_is_deleted\n",
      "user_is_abused\n",
      "user_is_activated\n",
      "user_change_datime\n",
      "user_is_semiactivated\n",
      "user_region\n",
      "feedback\n",
      "objectId\n",
      "auditweights_ageMs\n",
      "auditweights_closed\n",
      "auditweights_ctr_gender\n",
      "auditweights_ctr_high\n",
      "auditweights_ctr_negative\n",
      "auditweights_dailyRecency\n",
      "auditweights_feedOwner_RECOMMENDED_GROUP\n",
      "auditweights_feedStats\n",
      "auditweights_friendCommentFeeds\n",
      "auditweights_friendCommenters\n",
      "auditweights_friendLikes\n",
      "auditweights_friendLikes_actors\n",
      "auditweights_hasDetectedText\n",
      "auditweights_hasText\n",
      "auditweights_isPymk\n",
      "auditweights_isRandom\n",
      "auditweights_likersFeedStats_hyper\n",
      "auditweights_likersSvd_prelaunch_hyper\n",
      "auditweights_matrix\n",
      "auditweights_notOriginalPhoto\n",
      "auditweights_numDislikes\n",
      "auditweights_numLikes\n",
      "auditweights_numShows\n",
      "auditweights_onlineVideo\n",
      "auditweights_partAge\n",
      "auditweights_partCtr\n",
      "auditweights_partSvd\n",
      "auditweights_processedVideo\n",
      "auditweights_relationMasks\n",
      "auditweights_source_LIVE_TOP\n",
      "auditweights_source_MOVIE_TOP\n",
      "auditweights_svd_prelaunch\n",
      "auditweights_svd_spark\n",
      "auditweights_userAge\n",
      "auditweights_userOwner_CREATE_COMMENT\n",
      "auditweights_userOwner_CREATE_IMAGE\n",
      "auditweights_userOwner_CREATE_LIKE\n",
      "auditweights_userOwner_IMAGE\n",
      "auditweights_userOwner_MOVIE_COMMENT_CREATE\n",
      "auditweights_userOwner_PHOTO_COMMENT_CREATE\n",
      "auditweights_userOwner_PHOTO_MARK_CREATE\n",
      "auditweights_userOwner_PHOTO_VIEW\n",
      "auditweights_userOwner_TEXT\n",
      "auditweights_userOwner_UNKNOWN\n",
      "auditweights_userOwner_USER_DELETE_MESSAGE\n",
      "auditweights_userOwner_USER_FEED_REMOVE\n",
      "auditweights_userOwner_USER_FORUM_MESSAGE_CREATE\n",
      "auditweights_userOwner_USER_INTERNAL_LIKE\n",
      "auditweights_userOwner_USER_INTERNAL_UNLIKE\n",
      "auditweights_userOwner_USER_PRESENT_SEND\n",
      "auditweights_userOwner_USER_PROFILE_VIEW\n",
      "auditweights_userOwner_USER_SEND_MESSAGE\n",
      "auditweights_userOwner_USER_STATUS_COMMENT_CREATE\n",
      "auditweights_userOwner_VIDEO\n",
      "auditweights_userOwner_VOTE_POLL\n",
      "auditweights_x_ActorsRelations\n",
      "auditweights_likersSvd_spark_hyper\n",
      "auditweights_source_PROMO\n",
      "date\n"
     ]
    }
   ],
   "source": [
    "//  посмотрим на список колонок\n",
    "for (c <- df.columns) {\n",
    "    println(c)\n",
    "}"
   ]
  },
  {
   "cell_type": "code",
   "execution_count": 31,
   "metadata": {},
   "outputs": [
    {
     "data": {
      "text/plain": [
       "\u001b[36mdf_exp\u001b[39m: \u001b[32mDataFrame\u001b[39m = [instanceId_userId: int, instanceId_objectType: string ... 168 more fields]"
      ]
     },
     "execution_count": 31,
     "metadata": {},
     "output_type": "execute_result"
    }
   ],
   "source": [
    "df.createOrReplaceTempView(\"trainDF\")\n",
    "val df_exp = spark.sql(\"\"\"\n",
    "    select t.*, explode(feedback) as fb_exp from trainDF t \n",
    "\"\"\")\n",
    "df_exp.createOrReplaceTempView(\"trainDF_exp\")"
   ]
  },
  {
   "cell_type": "markdown",
   "metadata": {},
   "source": [
    "# Задание 1 - Постройте топ популярных групп на портале"
   ]
  },
  {
   "cell_type": "code",
   "execution_count": 32,
   "metadata": {},
   "outputs": [
    {
     "name": "stdout",
     "output_type": "stream",
     "text": [
      "+----------------+--------+\n",
      "|metadata_ownerId|like_cnt|\n",
      "+----------------+--------+\n",
      "|           37463|   16726|\n",
      "|           11222|   12301|\n",
      "|           18942|   10160|\n",
      "|           14285|   10024|\n",
      "|           62833|    9428|\n",
      "|           26843|    8779|\n",
      "|           19481|    8717|\n",
      "|           79619|    8519|\n",
      "|           11058|    8384|\n",
      "|           26735|    7770|\n",
      "+----------------+--------+\n",
      "only showing top 10 rows\n",
      "\n"
     ]
    }
   ],
   "source": [
    "spark.sql(\"\"\"\n",
    "    select metadata_ownerId, count(*) as like_cnt from trainDF_exp\n",
    "    where fb_exp = 'Liked'\n",
    "    group by metadata_ownerId\n",
    "    order by like_cnt desc\n",
    "\"\"\").show(10)"
   ]
  },
  {
   "cell_type": "code",
   "execution_count": 38,
   "metadata": {},
   "outputs": [
    {
     "name": "stdout",
     "output_type": "stream",
     "text": [
      "+---------+\n",
      "|   fb_exp|\n",
      "+---------+\n",
      "|Commented|\n",
      "|   Viewed|\n",
      "| ReShared|\n",
      "|  Clicked|\n",
      "|Complaint|\n",
      "|  Ignored|\n",
      "| Disliked|\n",
      "|    Liked|\n",
      "|  Unliked|\n",
      "+---------+\n",
      "\n"
     ]
    }
   ],
   "source": [
    "spark.sql(\"\"\"\n",
    "    select distinct fb_exp from trainDF_exp\n",
    "\"\"\").show()"
   ]
  },
  {
   "cell_type": "code",
   "execution_count": 46,
   "metadata": {},
   "outputs": [
    {
     "data": {
      "text/plain": [
       "\u001b[36mactivityDF\u001b[39m: \u001b[32mDataFrame\u001b[39m = [created_hour: string, cnt: bigint]\n",
       "\u001b[36mpopularityDF\u001b[39m: \u001b[32mDataFrame\u001b[39m = [created_hour: string, cnt: bigint]"
      ]
     },
     "execution_count": 46,
     "metadata": {},
     "output_type": "execute_result"
    }
   ],
   "source": [
    "val activityDF = spark.sql(\"\"\"\n",
    "    select created_hour, count(*) as cnt from (\n",
    "        select \n",
    "            from_unixtime(metadata_createdAt, 'HH') as created_hour\n",
    "            , fb_exp\n",
    "        from trainDF_exp \n",
    "        where fb_exp <> 'Ignored'\n",
    "    ) \n",
    "    group by created_hour\n",
    "    order by created_hour\n",
    "\"\"\")\n",
    "\n",
    "val popularityDF = spark.sql(\"\"\"\n",
    "    select created_hour, count(*) as cnt from (\n",
    "        select \n",
    "            from_unixtime(metadata_createdAt, 'HH') as created_hour\n",
    "            , fb_exp\n",
    "        from trainDF_exp \n",
    "        where fb_exp = 'Liked'\n",
    "    ) \n",
    "    group by created_hour\n",
    "    order by created_hour\n",
    "\"\"\")\n",
    "\n"
   ]
  },
  {
   "cell_type": "code",
   "execution_count": 47,
   "metadata": {},
   "outputs": [
    {
     "name": "stdout",
     "output_type": "stream",
     "text": [
      "+------------+------+\n",
      "|created_hour|   cnt|\n",
      "+------------+------+\n",
      "|          00|312314|\n",
      "|          01|321707|\n",
      "|          02|319148|\n",
      "|          03|315376|\n",
      "|          04|325096|\n",
      "|          05|320993|\n",
      "|          06|313794|\n",
      "|          07|340855|\n",
      "|          08|312593|\n",
      "|          09|323576|\n",
      "|          10|323072|\n",
      "|          11|317125|\n",
      "|          12|316304|\n",
      "|          13|322514|\n",
      "|          14|303189|\n",
      "|          15|328408|\n",
      "|          16|316001|\n",
      "|          17|325420|\n",
      "|          18|326375|\n",
      "|          19|328067|\n",
      "|          20|335332|\n",
      "|          21|323341|\n",
      "|          22|307189|\n",
      "|          23|328270|\n",
      "+------------+------+\n",
      "\n"
     ]
    }
   ],
   "source": [
    "activityDF.show(24)"
   ]
  },
  {
   "cell_type": "code",
   "execution_count": 48,
   "metadata": {},
   "outputs": [
    {
     "name": "stdout",
     "output_type": "stream",
     "text": [
      "+------------+------+\n",
      "|created_hour|   cnt|\n",
      "+------------+------+\n",
      "|          00|131087|\n",
      "|          01|134482|\n",
      "|          02|131933|\n",
      "|          03|132778|\n",
      "|          04|136470|\n",
      "|          05|135081|\n",
      "|          06|131198|\n",
      "|          07|142981|\n",
      "|          08|131175|\n",
      "|          09|136853|\n",
      "|          10|135167|\n",
      "|          11|132435|\n",
      "|          12|130546|\n",
      "|          13|135089|\n",
      "|          14|127380|\n",
      "|          15|137408|\n",
      "|          16|131774|\n",
      "|          17|134038|\n",
      "|          18|134195|\n",
      "|          19|134972|\n",
      "|          20|139733|\n",
      "|          21|135906|\n",
      "|          22|128918|\n",
      "|          23|138830|\n",
      "+------------+------+\n",
      "\n"
     ]
    }
   ],
   "source": [
    "popularityDF.show(24)"
   ]
  },
  {
   "cell_type": "code",
   "execution_count": null,
   "metadata": {},
   "outputs": [],
   "source": []
  }
 ],
 "metadata": {
  "kernelspec": {
   "display_name": "Scala 2.11",
   "language": "scala",
   "name": "scala211"
  },
  "language_info": {
   "codemirror_mode": "text/x-scala",
   "file_extension": ".scala",
   "mimetype": "text/x-scala",
   "name": "scala",
   "nbconvert_exporter": "script",
   "version": "2.11.12"
  }
 },
 "nbformat": 4,
 "nbformat_minor": 2
}
