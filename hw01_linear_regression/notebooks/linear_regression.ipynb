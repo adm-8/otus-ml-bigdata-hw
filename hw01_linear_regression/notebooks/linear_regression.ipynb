{
 "cells": [
  {
   "cell_type": "code",
   "execution_count": 1,
   "metadata": {},
   "outputs": [
    {
     "data": {
      "text/plain": [
       "\u001b[32mimport \u001b[39m\u001b[36m$ivy.$                         \n",
       "\u001b[39m\n",
       "\u001b[32mimport \u001b[39m\u001b[36mscala.collection.mutable.ArrayBuffer\n",
       "\u001b[39m\n",
       "\u001b[32mimport \u001b[39m\u001b[36mbreeze.linalg._\u001b[39m"
      ]
     },
     "execution_count": 1,
     "metadata": {},
     "output_type": "execute_result"
    }
   ],
   "source": [
    "// подключаем необходимые библиотеки\n",
    "import $ivy.`org.scalanlp::breeze:1.0`\n",
    "import scala.collection.mutable.ArrayBuffer\n",
    "import breeze.linalg._"
   ]
  },
  {
   "cell_type": "code",
   "execution_count": 2,
   "metadata": {},
   "outputs": [
    {
     "data": {
      "text/html": [
       "<div class=\"jp-RenderedText\">\n",
       "<pre><code><span style=\"color: rgb(0, 187, 187)\"><span class=\"ansi-cyan-fg\">dataFile</span></span>: <span style=\"color: rgb(0, 187, 0)\"><span class=\"ansi-green-fg\">io</span></span>.<span style=\"color: rgb(0, 187, 0)\"><span class=\"ansi-green-fg\">BufferedSource</span></span> = <span style=\"color: rgb(0, 187, 0)\"><span class=\"ansi-green-fg\">non-empty iterator</span></span>\n",
       "<span style=\"color: rgb(0, 187, 187)\"><span class=\"ansi-cyan-fg\">dataArray</span></span>: <span style=\"color: rgb(0, 187, 0)\"><span class=\"ansi-green-fg\">Array</span></span>[<span style=\"color: rgb(0, 187, 0)\"><span class=\"ansi-green-fg\">Int</span></span>] = <style>@keyframes fadein { from { opacity: 0; } to { opacity: 1; } }</style><span style=\"animation: fadein 2s;\"><span style=\"color: yellow\"><span class=\"ansi-yellow-fg\">Array</span></span>(\n",
       "  <span style=\"color: rgb(0, 187, 0)\"><span class=\"ansi-green-fg\">634995</span></span>,\n",
       "  <span style=\"color: rgb(0, 187, 0)\"><span class=\"ansi-green-fg\">0</span></span>,\n",
       "  <span style=\"color: rgb(0, 187, 0)\"><span class=\"ansi-green-fg\">463</span></span>,\n",
       "  <span style=\"color: rgb(0, 187, 0)\"><span class=\"ansi-green-fg\">1</span></span>,\n",
       "  <span style=\"color: rgb(0, 187, 0)\"><span class=\"ansi-green-fg\">0</span></span>,\n",
       "  <span style=\"color: rgb(0, 187, 0)\"><span class=\"ansi-green-fg\">0</span></span>,\n",
       "  <span style=\"color: rgb(0, 187, 0)\"><span class=\"ansi-green-fg\">0</span></span>,\n",
       "  <span style=\"color: rgb(0, 187, 0)\"><span class=\"ansi-green-fg\">0</span></span>,\n",
       "  <span style=\"color: rgb(0, 187, 0)\"><span class=\"ansi-green-fg\">0</span></span>,\n",
       "  <span style=\"color: rgb(0, 187, 0)\"><span class=\"ansi-green-fg\">65</span></span>,\n",
       "  <span style=\"color: rgb(0, 187, 0)\"><span class=\"ansi-green-fg\">166</span></span>,\n",
       "  <span style=\"color: rgb(0, 187, 0)\"><span class=\"ansi-green-fg\">2</span></span>,\n",
       "  <span style=\"color: rgb(0, 187, 0)\"><span class=\"ansi-green-fg\">24</span></span>,\n",
       "  <span style=\"color: rgb(0, 187, 0)\"><span class=\"ansi-green-fg\">0</span></span>,\n",
       "  <span style=\"color: rgb(0, 187, 0)\"><span class=\"ansi-green-fg\">0</span></span>,\n",
       "  <span style=\"color: rgb(0, 187, 0)\"><span class=\"ansi-green-fg\">0</span></span>,\n",
       "  <span style=\"color: rgb(0, 187, 0)\"><span class=\"ansi-green-fg\">1</span></span>,\n",
       "  <span style=\"color: rgb(0, 187, 0)\"><span class=\"ansi-green-fg\">0</span></span>,\n",
       "  <span style=\"color: rgb(0, 187, 0)\"><span class=\"ansi-green-fg\">0</span></span>,\n",
       "  <span style=\"color: rgb(0, 187, 0)\"><span class=\"ansi-green-fg\">0</span></span>,\n",
       "  <span style=\"color: rgb(0, 187, 0)\"><span class=\"ansi-green-fg\">0</span></span>,\n",
       "  <span style=\"color: rgb(0, 187, 0)\"><span class=\"ansi-green-fg\">0</span></span>,\n",
       "  <span style=\"color: rgb(0, 187, 0)\"><span class=\"ansi-green-fg\">0</span></span>,\n",
       "  <span style=\"color: rgb(0, 187, 0)\"><span class=\"ansi-green-fg\">0</span></span>,\n",
       "  <span style=\"color: rgb(0, 187, 0)\"><span class=\"ansi-green-fg\">0</span></span>,\n",
       "  <span style=\"color: rgb(0, 187, 0)\"><span class=\"ansi-green-fg\">0</span></span>,\n",
       "  <span style=\"color: rgb(0, 187, 0)\"><span class=\"ansi-green-fg\">1</span></span>,\n",
       "  <span style=\"color: rgb(0, 187, 0)\"><span class=\"ansi-green-fg\">0</span></span>,\n",
       "  <span style=\"color: rgb(0, 187, 0)\"><span class=\"ansi-green-fg\">634995</span></span>,\n",
       "  <span style=\"color: rgb(0, 187, 0)\"><span class=\"ansi-green-fg\">0</span></span>,\n",
       "  <span style=\"color: rgb(0, 187, 0)\"><span class=\"ansi-green-fg\">463</span></span>,\n",
       "  <span style=\"color: rgb(0, 187, 0)\"><span class=\"ansi-green-fg\">1</span></span>,\n",
       "  <span style=\"color: rgb(0, 187, 0)\"><span class=\"ansi-green-fg\">0</span></span>,\n",
       "  <span style=\"color: rgb(0, 187, 0)\"><span class=\"ansi-green-fg\">0</span></span>,\n",
       "  <span style=\"color: rgb(0, 187, 0)\"><span class=\"ansi-green-fg\">0</span></span>,\n",
       "  <span style=\"color: rgb(0, 187, 0)\"><span class=\"ansi-green-fg\">0</span></span>,\n",
       "  <span style=\"color: rgb(0, 187, 0)\"><span class=\"ansi-green-fg\">0</span></span>,\n",
       "  <span style=\"color: rgb(0, 187, 0)\"><span class=\"ansi-green-fg\">10</span></span>,\n",
       "...</span></code></pre>\n",
       "</div>"
      ],
      "text/plain": [
       "\u001b[36mdataFile\u001b[39m: \u001b[32mio\u001b[39m.\u001b[32mBufferedSource\u001b[39m = \u001b[32mnon-empty iterator\u001b[39m\n",
       "\u001b[36mdataArray\u001b[39m: \u001b[32mArray\u001b[39m[\u001b[32mInt\u001b[39m] = \u001b[33mArray\u001b[39m(\n",
       "  \u001b[32m634995\u001b[39m,\n",
       "  \u001b[32m0\u001b[39m,\n",
       "  \u001b[32m463\u001b[39m,\n",
       "  \u001b[32m1\u001b[39m,\n",
       "  \u001b[32m0\u001b[39m,\n",
       "  \u001b[32m0\u001b[39m,\n",
       "  \u001b[32m0\u001b[39m,\n",
       "  \u001b[32m0\u001b[39m,\n",
       "  \u001b[32m0\u001b[39m,\n",
       "  \u001b[32m65\u001b[39m,\n",
       "  \u001b[32m166\u001b[39m,\n",
       "  \u001b[32m2\u001b[39m,\n",
       "  \u001b[32m24\u001b[39m,\n",
       "  \u001b[32m0\u001b[39m,\n",
       "  \u001b[32m0\u001b[39m,\n",
       "  \u001b[32m0\u001b[39m,\n",
       "  \u001b[32m1\u001b[39m,\n",
       "  \u001b[32m0\u001b[39m,\n",
       "  \u001b[32m0\u001b[39m,\n",
       "  \u001b[32m0\u001b[39m,\n",
       "  \u001b[32m0\u001b[39m,\n",
       "  \u001b[32m0\u001b[39m,\n",
       "  \u001b[32m0\u001b[39m,\n",
       "  \u001b[32m0\u001b[39m,\n",
       "  \u001b[32m0\u001b[39m,\n",
       "  \u001b[32m0\u001b[39m,\n",
       "  \u001b[32m1\u001b[39m,\n",
       "  \u001b[32m0\u001b[39m,\n",
       "  \u001b[32m634995\u001b[39m,\n",
       "  \u001b[32m0\u001b[39m,\n",
       "  \u001b[32m463\u001b[39m,\n",
       "  \u001b[32m1\u001b[39m,\n",
       "  \u001b[32m0\u001b[39m,\n",
       "  \u001b[32m0\u001b[39m,\n",
       "  \u001b[32m0\u001b[39m,\n",
       "  \u001b[32m0\u001b[39m,\n",
       "  \u001b[32m0\u001b[39m,\n",
       "  \u001b[32m10\u001b[39m,\n",
       "..."
      ]
     },
     "metadata": {},
     "output_type": "display_data"
    }
   ],
   "source": [
    "// читаем файл с данными\n",
    "val dataFile = io.Source.fromFile(\"Dataset.csv\")\n",
    "// готовим массив дя дальнейшего его перегона в матрицу\n",
    "var dataArray = Array[Int]()"
   ]
  },
  {
   "cell_type": "code",
   "execution_count": 3,
   "metadata": {},
   "outputs": [],
   "source": [
    "// Пробегаемся по каждай строке файла\n",
    "for (line <- dataFile.getLines.drop(1)) {  \n",
    "    // делим строку на элементы и обрезаем пробелы\n",
    "    for (elem <- line.split(\",\")map(_.trim)){\n",
    "        // если значения нет, то добавляем 0\n",
    "        if(elem == \"\") {\n",
    "            dataArray = dataArray :+ 0 \n",
    "        // иначе добавляем в массив значение елемента, приведенного к целому числу\n",
    "        }else{\n",
    "            dataArray = dataArray :+ elem.toInt\n",
    "        }\n",
    "    }\n",
    "}"
   ]
  },
  {
   "cell_type": "code",
   "execution_count": 11,
   "metadata": {},
   "outputs": [
    {
     "data": {
      "text/html": [
       "<div class=\"jp-RenderedText\">\n",
       "<pre><code><span style=\"color: rgb(0, 187, 187)\"><span class=\"ansi-cyan-fg\">dv</span></span>: <span style=\"color: rgb(0, 187, 0)\"><span class=\"ansi-green-fg\">DenseVector</span></span>[<span style=\"color: rgb(0, 187, 0)\"><span class=\"ansi-green-fg\">Int</span></span>] = DenseVector(634995, 0, 463, 1, 0, 0, 0, 0, 0, 65, 166, 2, 24, 0, 0, 0, 1, 0, 0, 0, 0, 0, 0, 0, 0, 0, 1, 0, 634995, 0, 463, 1, 0, 0, 0, 0, 0, 10, 132, 1, 24, 0, 0, 0, 0, 1, 0, 0, 0, 0, 0, 0, 0, 1, 0, 0, 634995, 0, 463, 1, 0, 0, 0, 0, 0, 14, 133, 2, 24, 0, 0, 0, 0, 0, 1, 0, 0, 0, 0, 0, 0, 0, 1, 0, 634995, 0, 463, 1, 7, 0, 3, 7, -3, 62, 131, 1, 24, 0, 0, 0, 0, 0, 1, 0, 0, 1, 0, 0, 0, 0, 0, 0, 634995, 0, 463, 1, 1, 0, 0, 1, 0, 58, 142, 5, 24, 0, 0, 0, 0, 0, 0, 0, 0, 0, 0, 1, 0, 0, 0, 0, 634995, 0, 463, 1, 0, 0, 0, 0, 0, 60, 166, 1, 24, 0, 0, 1, 0, 0, 0, 0, 0, 0, 0, 0, 0, 1, 0, 0, 634995, 0, 463, 1, 0, 0, 0, 0, 0, 68, 145, 2, 24, 0, 0, 0, 1, 0, 0, 0, 0, 0, 0, 0, 0, 0, 1, 0, 634995, 0, 463, 1, 1, 0, 1, 1, -1, 32, 157, 2, 24, 0, 0, 0, 0, 1, 0, 0, 0, 0, 0, 0, 0, 0, 1, 0, 634995, 0, 463, 1, 0, 0, 0, 0, 0, 35, 177, 5, 24, 0, 0, 0, 0, 0, 1, 0, 0, 0, 0, 0, 0, 0, 1, 0, 634995, 0, 463, 1, 0, 0, 0, 0, 0, 48, 126, 1, 24, 0, 0, 0, 0, 0, 1, 0, 1, 0, 0, 0, 0, 0, 0, 0, 634995, 0, 463, 1, 0, 0, 0, 0, 0, 52, 188, 1, 24, 0, 0, 0, 0, 0, 1, 0, 1, 0, 0, 0, 0, 0, 0, 0, 634995, 0, 463, 1, 1, 0, 0, 1, 0, 69, 172, 4, 24, 0, 0, 0, 0, 0, 0, 0, 0, 0, 0, 0, 1, 0, 0, 0, 634995, 0, 463, 1, 0, 0, 0, 0, 0, 3, 157, 4, 24, 0, 0, 1, 0, 0, 0, 0, 0, 0, 1, 0, 0, 0, 0, 3, 634995, 0, 463, 1, 1, 1, 0, 1, 1, 37, 126, 1, 24, 0, 0, 0, 1, 0, 0, 0, 0, 0, 0, 0, 0, 1, 0, 0, 634995, 0, 463, 1, 0, 0, 0, 0, 0, 23, 103, 1, 24, 0, 0, 0, 0, 0, 0, 0, 0, 0, 1, 0, 0, 0, 0, 0, 634995, 0, 463, 1, 3, 0, 3, 3, -3, 40, 158, 4, 24, 0, 0, 1, 0, 0, 0, 0, 0, 0, 0, 0, 1, 0, 0, 0, 634995, 0, 463, 1, 3, 0, 3, 2, -3, 54, 151, 0, 24, 0, 0, 0, 1, 0, 0, 0, 0, 0, 0, 0, 0, 1, 0, 0, 634995, 0, 463, 1, 0, 0, 0, 0, 0, 29, 133, 1, 24, 0, 0, 0, 1, 0, 0, 0, 0, 0, 0, 0, 0, 1, 0, 0, 634995, 0, 463, 1, 1, 0, 1, 1, -1, 36, 137, 0, 24, 0, 0, 0, 0, 1, 0, 0, 0, 0, 0, 0, 0, 0, 1, 0, 634995, 0, 463, 1, 0, 0, 0, 0, 0, 11, 106, 0, 24, 0, 0, 0, 0, 0, 1, 0, 0, 0, 0, 0, 0, 0, 1, 0, 634995, 0, 463, 1, 0, 0, 0, 0, 0, 62, 149, 1, 24, 0, 0, 0, 0, 0, 0, 0, 0, 0, 0, 0, 1, 0, 0, 0, 634995, 0, 463, 1, 77, 46, 31, 74, 15, 31, 135, 19, 24, 0, 0, 0, 0, 0, 0, 0, 0, 0, 0, 1, 0, 0, 0, 5, 634995, 0, 463, 1, 6, 0, 1, 6, -1, 54, 64, 1, 24, 0, 0, 0, 1, 0, 0, 0, 0, 0, 0, 0, 0, 1, 0, 0, 634995, 0, 463, 1, 0, 0, 0, 0, 0, 69, 111, 4, 24, 0, 0, 0, 1, 0, 0, 0, 0, 0, 0, 0, 0, 0, 1, 0, 634995, 0, 463, 1, 0, 0, 0, 0, 0, 71, 156, 0, 24, 0, 0, 0, 0, 1, 0, 0, 1, 0, 0, 0, 0, 0, 0, 0)\n",
       "<span style=\"color: rgb(0, 187, 187)\"><span class=\"ansi-cyan-fg\">dataMatrix</span></span>: <span style=\"color: rgb(0, 187, 0)\"><span class=\"ansi-green-fg\">DenseMatrix</span></span>[<span style=\"color: rgb(0, 187, 0)\"><span class=\"ansi-green-fg\">Int</span></span>] = 634995  0  463  1  0   0   0   0   0   65  166  2   24  0  0  0  ... (28 total)\n",
       "634995  0  463  1  0   0   0   0   0   10  132  1   24  0  0  0  ...\n",
       "634995  0  463  1  0   0   0   0   0   14  133  2   24  0  0  0  ...\n",
       "634995  0  463  1  7   0   3   7   -3  62  131  1   24  0  0  0  ...\n",
       "634995  0  463  1  1   0   0   1   0   58  142  5   24  0  0  0  ...\n",
       "634995  0  463  1  0   0   0   0   0   60  166  1   24  0  0  1  ...\n",
       "634995  0  463  1  0   0   0   0   0   68  145  2   24  0  0  0  ...\n",
       "634995  0  463  1  1   0   1   1   -1  32  157  2   24  0  0  0  ...\n",
       "634995  0  463  1  0   0   0   0   0   35  177  5   24  0  0  0  ...\n",
       "634995  0  463  1  0   0   0   0   0   48  126  1   24  0  0  0  ...\n",
       "634995  0  463  1  0   0   0   0   0   52  188  1   24  0  0  0  ...\n",
       "634995  0  463  1  1   0   0   1   0   69  172  4   24  0  0  0  ...\n",
       "634995  0  463  1  0   0   0   0   0   3   157  4   24  0  0  1  ...\n",
       "634995  0  463  1  1   1   0   1   1   37  126  1   24  0  0  0  ...\n",
       "634995  0  463  1  0   0   0   0   0   23  103  1   24  0  0  0  ...\n",
       "634995  0  463  1  3   0   3   3   -3  40  158  4   24  0  0  1  ...\n",
       "634995  0  463  1  3   0   3   2   -3  54  151  0   24  0  0  0  ...\n",
       "634995  0  463  1  0   0   0   0   0   29  133  1   24  0  0  0  ...\n",
       "634995  0  463  1  1   0   1   1   -1  36  137  0   24  0  0  0  ...\n",
       "634995  0  463  1  0   0   0   0   0   11  106  0   24  0  0  0  ...\n",
       "634995  0  463  1  0   0   0   0   0   62  149  1   24  0  0  0  ...\n",
       "634995  0  463  1  77  46  31  74  15  31  135  19  24  0  0  0  ...\n",
       "634995  0  463  1  6   0   1   6   -1  54  64   1   24  0  0  0  ...\n",
       "634995  0  463  1  0   0   0   0   0   69  111  4   24  0  0  0  ...\n",
       "634995  0  463  1  0   0   0   0   0   71  156  0   24  0  0  0  ...</code></pre>\n",
       "</div>"
      ],
      "text/plain": [
       "\u001b[36mdv\u001b[39m: \u001b[32mDenseVector\u001b[39m[\u001b[32mInt\u001b[39m] = DenseVector(634995, 0, 463, 1, 0, 0, 0, 0, 0, 65, 166, 2, 24, 0, 0, 0, 1, 0, 0, 0, 0, 0, 0, 0, 0, 0, 1, 0, 634995, 0, 463, 1, 0, 0, 0, 0, 0, 10, 132, 1, 24, 0, 0, 0, 0, 1, 0, 0, 0, 0, 0, 0, 0, 1, 0, 0, 634995, 0, 463, 1, 0, 0, 0, 0, 0, 14, 133, 2, 24, 0, 0, 0, 0, 0, 1, 0, 0, 0, 0, 0, 0, 0, 1, 0, 634995, 0, 463, 1, 7, 0, 3, 7, -3, 62, 131, 1, 24, 0, 0, 0, 0, 0, 1, 0, 0, 1, 0, 0, 0, 0, 0, 0, 634995, 0, 463, 1, 1, 0, 0, 1, 0, 58, 142, 5, 24, 0, 0, 0, 0, 0, 0, 0, 0, 0, 0, 1, 0, 0, 0, 0, 634995, 0, 463, 1, 0, 0, 0, 0, 0, 60, 166, 1, 24, 0, 0, 1, 0, 0, 0, 0, 0, 0, 0, 0, 0, 1, 0, 0, 634995, 0, 463, 1, 0, 0, 0, 0, 0, 68, 145, 2, 24, 0, 0, 0, 1, 0, 0, 0, 0, 0, 0, 0, 0, 0, 1, 0, 634995, 0, 463, 1, 1, 0, 1, 1, -1, 32, 157, 2, 24, 0, 0, 0, 0, 1, 0, 0, 0, 0, 0, 0, 0, 0, 1, 0, 634995, 0, 463, 1, 0, 0, 0, 0, 0, 35, 177, 5, 24, 0, 0, 0, 0, 0, 1, 0, 0, 0, 0, 0, 0, 0, 1, 0, 634995, 0, 463, 1, 0, 0, 0, 0, 0, 48, 126, 1, 24, 0, 0, 0, 0, 0, 1, 0, 1, 0, 0, 0, 0, 0, 0, 0, 634995, 0, 463, 1, 0, 0, 0, 0, 0, 52, 188, 1, 24, 0, 0, 0, 0, 0, 1, 0, 1, 0, 0, 0, 0, 0, 0, 0, 634995, 0, 463, 1, 1, 0, 0, 1, 0, 69, 172, 4, 24, 0, 0, 0, 0, 0, 0, 0, 0, 0, 0, 0, 1, 0, 0, 0, 634995, 0, 463, 1, 0, 0, 0, 0, 0, 3, 157, 4, 24, 0, 0, 1, 0, 0, 0, 0, 0, 0, 1, 0, 0, 0, 0, 3, 634995, 0, 463, 1, 1, 1, 0, 1, 1, 37, 126, 1, 24, 0, 0, 0, 1, 0, 0, 0, 0, 0, 0, 0, 0, 1, 0, 0, 634995, 0, 463, 1, 0, 0, 0, 0, 0, 23, 103, 1, 24, 0, 0, 0, 0, 0, 0, 0, 0, 0, 1, 0, 0, 0, 0, 0, 634995, 0, 463, 1, 3, 0, 3, 3, -3, 40, 158, 4, 24, 0, 0, 1, 0, 0, 0, 0, 0, 0, 0, 0, 1, 0, 0, 0, 634995, 0, 463, 1, 3, 0, 3, 2, -3, 54, 151, 0, 24, 0, 0, 0, 1, 0, 0, 0, 0, 0, 0, 0, 0, 1, 0, 0, 634995, 0, 463, 1, 0, 0, 0, 0, 0, 29, 133, 1, 24, 0, 0, 0, 1, 0, 0, 0, 0, 0, 0, 0, 0, 1, 0, 0, 634995, 0, 463, 1, 1, 0, 1, 1, -1, 36, 137, 0, 24, 0, 0, 0, 0, 1, 0, 0, 0, 0, 0, 0, 0, 0, 1, 0, 634995, 0, 463, 1, 0, 0, 0, 0, 0, 11, 106, 0, 24, 0, 0, 0, 0, 0, 1, 0, 0, 0, 0, 0, 0, 0, 1, 0, 634995, 0, 463, 1, 0, 0, 0, 0, 0, 62, 149, 1, 24, 0, 0, 0, 0, 0, 0, 0, 0, 0, 0, 0, 1, 0, 0, 0, 634995, 0, 463, 1, 77, 46, 31, 74, 15, 31, 135, 19, 24, 0, 0, 0, 0, 0, 0, 0, 0, 0, 0, 1, 0, 0, 0, 5, 634995, 0, 463, 1, 6, 0, 1, 6, -1, 54, 64, 1, 24, 0, 0, 0, 1, 0, 0, 0, 0, 0, 0, 0, 0, 1, 0, 0, 634995, 0, 463, 1, 0, 0, 0, 0, 0, 69, 111, 4, 24, 0, 0, 0, 1, 0, 0, 0, 0, 0, 0, 0, 0, 0, 1, 0, 634995, 0, 463, 1, 0, 0, 0, 0, 0, 71, 156, 0, 24, 0, 0, 0, 0, 1, 0, 0, 1, 0, 0, 0, 0, 0, 0, 0)\n",
       "\u001b[36mdataMatrix\u001b[39m: \u001b[32mDenseMatrix\u001b[39m[\u001b[32mInt\u001b[39m] = 634995  0  463  1  0   0   0   0   0   65  166  2   24  0  0  0  ... (28 total)\n",
       "634995  0  463  1  0   0   0   0   0   10  132  1   24  0  0  0  ...\n",
       "634995  0  463  1  0   0   0   0   0   14  133  2   24  0  0  0  ...\n",
       "634995  0  463  1  7   0   3   7   -3  62  131  1   24  0  0  0  ...\n",
       "634995  0  463  1  1   0   0   1   0   58  142  5   24  0  0  0  ...\n",
       "634995  0  463  1  0   0   0   0   0   60  166  1   24  0  0  1  ...\n",
       "634995  0  463  1  0   0   0   0   0   68  145  2   24  0  0  0  ...\n",
       "634995  0  463  1  1   0   1   1   -1  32  157  2   24  0  0  0  ...\n",
       "634995  0  463  1  0   0   0   0   0   35  177  5   24  0  0  0  ...\n",
       "634995  0  463  1  0   0   0   0   0   48  126  1   24  0  0  0  ...\n",
       "634995  0  463  1  0   0   0   0   0   52  188  1   24  0  0  0  ...\n",
       "634995  0  463  1  1   0   0   1   0   69  172  4   24  0  0  0  ...\n",
       "634995  0  463  1  0   0   0   0   0   3   157  4   24  0  0  1  ...\n",
       "634995  0  463  1  1   1   0   1   1   37  126  1   24  0  0  0  ...\n",
       "634995  0  463  1  0   0   0   0   0   23  103  1   24  0  0  0  ...\n",
       "634995  0  463  1  3   0   3   3   -3  40  158  4   24  0  0  1  ...\n",
       "634995  0  463  1  3   0   3   2   -3  54  151  0   24  0  0  0  ...\n",
       "634995  0  463  1  0   0   0   0   0   29  133  1   24  0  0  0  ...\n",
       "634995  0  463  1  1   0   1   1   -1  36  137  0   24  0  0  0  ...\n",
       "634995  0  463  1  0   0   0   0   0   11  106  0   24  0  0  0  ...\n",
       "634995  0  463  1  0   0   0   0   0   62  149  1   24  0  0  0  ...\n",
       "634995  0  463  1  77  46  31  74  15  31  135  19  24  0  0  0  ...\n",
       "634995  0  463  1  6   0   1   6   -1  54  64   1   24  0  0  0  ...\n",
       "634995  0  463  1  0   0   0   0   0   69  111  4   24  0  0  0  ...\n",
       "634995  0  463  1  0   0   0   0   0   71  156  0   24  0  0  0  ..."
      ]
     },
     "metadata": {},
     "output_type": "display_data"
    }
   ],
   "source": [
    "// перегоняем получившийся массив в вектор\n",
    "var dv = DenseVector(dataArray)\n",
    "// прокидываем вектор в матрицу\n",
    "var dataMatrix = DenseMatrix(dv)\n",
    "\n",
    "dataMatrix = dataMatrix.reshape(28, 25).t"
   ]
  },
  {
   "cell_type": "code",
   "execution_count": 17,
   "metadata": {},
   "outputs": [
    {
     "data": {
      "text/plain": [
       "\u001b[36mres16\u001b[39m: \u001b[32mDenseVector\u001b[39m[\u001b[32mInt\u001b[39m] = DenseVector(634995, 634995, 634995, 634995, 634995, 634995, 634995, 634995, 634995, 634995, 634995, 634995, 634995, 634995, 634995, 634995, 634995, 634995, 634995, 634995, 634995, 634995, 634995, 634995, 634995)"
      ]
     },
     "execution_count": 17,
     "metadata": {},
     "output_type": "execute_result"
    }
   ],
   "source": [
    "dataMatrix(::,0)"
   ]
  },
  {
   "cell_type": "code",
   "execution_count": null,
   "metadata": {},
   "outputs": [],
   "source": []
  }
 ],
 "metadata": {
  "kernelspec": {
   "display_name": "Scala 2.13",
   "language": "scala",
   "name": "scala213"
  },
  "language_info": {
   "codemirror_mode": "text/x-scala",
   "file_extension": ".sc",
   "mimetype": "text/x-scala",
   "name": "scala",
   "nbconvert_exporter": "script",
   "version": "2.13.3"
  }
 },
 "nbformat": 4,
 "nbformat_minor": 4
}
