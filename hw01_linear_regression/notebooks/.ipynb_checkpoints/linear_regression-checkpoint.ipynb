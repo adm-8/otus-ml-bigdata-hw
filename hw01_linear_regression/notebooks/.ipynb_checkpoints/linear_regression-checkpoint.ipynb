{
 "cells": [
  {
   "cell_type": "code",
   "execution_count": 1,
   "metadata": {},
   "outputs": [
    {
     "data": {
      "text/plain": [
       "\u001b[32mimport \u001b[39m\u001b[36m$ivy.$                         \n",
       "\u001b[39m\n",
       "\u001b[32mimport \u001b[39m\u001b[36mscala.collection.mutable.ArrayBuffer\n",
       "\u001b[39m\n",
       "\u001b[32mimport \u001b[39m\u001b[36mbreeze.linalg._\u001b[39m"
      ]
     },
     "execution_count": 1,
     "metadata": {},
     "output_type": "execute_result"
    }
   ],
   "source": [
    "// подключаем необходимые библиотеки\n",
    "import $ivy.`org.scalanlp::breeze:1.0`\n",
    "import scala.collection.mutable.ArrayBuffer\n",
    "import breeze.linalg._"
   ]
  },
  {
   "cell_type": "code",
   "execution_count": 3,
   "metadata": {},
   "outputs": [
    {
     "data": {
      "text/html": [
       "<div class=\"jp-RenderedText\">\n",
       "<pre><code><span style=\"color: rgb(0, 187, 187)\"><span class=\"ansi-cyan-fg\">dataFile</span></span>: <span style=\"color: rgb(0, 187, 0)\"><span class=\"ansi-green-fg\">io</span></span>.<span style=\"color: rgb(0, 187, 0)\"><span class=\"ansi-green-fg\">BufferedSource</span></span> = <span style=\"color: rgb(0, 187, 0)\"><span class=\"ansi-green-fg\">empty iterator</span></span>\n",
       "<span style=\"color: rgb(0, 187, 187)\"><span class=\"ansi-cyan-fg\">dataMatrix</span></span>: <span style=\"color: rgb(0, 187, 0)\"><span class=\"ansi-green-fg\">DenseMatrix</span></span>[<span style=\"color: rgb(0, 187, 0)\"><span class=\"ansi-green-fg\">Int</span></span>] = \n",
       "<span style=\"color: rgb(0, 187, 187)\"><span class=\"ansi-cyan-fg\">res2_2</span></span>: <span style=\"color: rgb(0, 187, 0)\"><span class=\"ansi-green-fg\">Int</span></span> = <span style=\"color: rgb(0, 187, 0)\"><span class=\"ansi-green-fg\">40950</span></span></code></pre>\n",
       "</div>"
      ],
      "text/plain": [
       "\u001b[36mdataFile\u001b[39m: \u001b[32mio\u001b[39m.\u001b[32mBufferedSource\u001b[39m = \u001b[32mempty iterator\u001b[39m\n",
       "\u001b[36mdataMatrix\u001b[39m: \u001b[32mDenseMatrix\u001b[39m[\u001b[32mInt\u001b[39m] = \n",
       "\u001b[36mres2_2\u001b[39m: \u001b[32mInt\u001b[39m = \u001b[32m40950\u001b[39m"
      ]
     },
     "metadata": {},
     "output_type": "display_data"
    }
   ],
   "source": [
    "// читаем файл с данными\n",
    "val dataFile = io.Source.fromFile(\"Dataset.csv\")\n",
    "var dataMatrix = DenseMatrix.zeros[Int](0,28)\n",
    "dataFile.getLines.length"
   ]
  },
  {
   "cell_type": "code",
   "execution_count": 3,
   "metadata": {},
   "outputs": [
    {
     "name": "stderr",
     "output_type": "stream",
     "text": [
      "cmd3.sc:27: return outside method definition\n",
      "    if(i > j) return\n",
      "              ^Compilation Failed"
     ]
    },
    {
     "ename": "",
     "evalue": "",
     "output_type": "error",
     "traceback": [
      "Compilation Failed"
     ]
    }
   ],
   "source": [
    "// Пробегаемся по каждай строке файла\n",
    "for (line <- dataFile.getLines.drop(1)) { \n",
    "    \n",
    "    // готовим массив для дальнейшего его перегона в матрицу \n",
    "    var dataArray = Array[Int]()\n",
    "    \n",
    "    // делим строку на элементы и обрезаем пробелы\n",
    "    for (elem <- line.split(\",\")map(_.trim)){\n",
    "        // если значения нет, то добавляем 0\n",
    "        if(elem == \"\") {\n",
    "            dataArray = dataArray :+ 0 \n",
    "        // иначе добавляем в массив значение елемента, приведенного к целому числу\n",
    "        }else{\n",
    "            dataArray = dataArray :+ elem.toInt\n",
    "        }\n",
    "    }\n",
    "    if (dataArray.length == 28){\n",
    "        dataMatrix = DenseMatrix.vertcat(dataMatrix, DenseMatrix(DenseVector(dataArray)))\n",
    "    }\n",
    "}"
   ]
  },
  {
   "cell_type": "code",
   "execution_count": null,
   "metadata": {},
   "outputs": [],
   "source": [
    "// перегоняем получившийся массив в вектор\n",
    "//var dv = DenseVector(dataArray)\n",
    "// прокидываем вектор в матрицу\n",
    "//var dataMatrix = DenseMatrix(dv)\n",
    "\n",
    "//dataMatrix = dataMatrix.reshape(dataArray.length / 28, 28)"
   ]
  }
 ],
 "metadata": {
  "kernelspec": {
   "display_name": "Scala 2.13",
   "language": "scala",
   "name": "scala213"
  },
  "language_info": {
   "codemirror_mode": "text/x-scala",
   "file_extension": ".sc",
   "mimetype": "text/x-scala",
   "name": "scala",
   "nbconvert_exporter": "script",
   "version": "2.13.3"
  }
 },
 "nbformat": 4,
 "nbformat_minor": 4
}
