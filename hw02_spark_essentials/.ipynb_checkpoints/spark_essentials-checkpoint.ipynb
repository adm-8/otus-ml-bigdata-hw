{
 "cells": [
  {
   "cell_type": "code",
   "execution_count": 1,
   "metadata": {},
   "outputs": [
    {
     "data": {
      "text/plain": [
       "\u001b[32mimport \u001b[39m\u001b[36m$ivy.$                                   // Or use any other 2.x version here\n",
       "// import $ivy.`sh.almond::almond-spark:0.10.9` \u001b[39m"
      ]
     },
     "execution_count": 1,
     "metadata": {},
     "output_type": "execute_result"
    }
   ],
   "source": [
    "import $ivy.`org.apache.spark::spark-sql:2.4.4` // Or use any other 2.x version here\n",
    "// import $ivy.`sh.almond::almond-spark:0.10.9` "
   ]
  },
  {
   "cell_type": "code",
   "execution_count": 2,
   "metadata": {},
   "outputs": [
    {
     "data": {
      "text/plain": [
       "\u001b[32mimport \u001b[39m\u001b[36morg.apache.log4j.{Level, Logger}\n",
       "\u001b[39m"
      ]
     },
     "execution_count": 2,
     "metadata": {},
     "output_type": "execute_result"
    }
   ],
   "source": [
    "import org.apache.log4j.{Level, Logger}\n",
    "Logger.getLogger(\"org\").setLevel(Level.OFF)\n"
   ]
  },
  {
   "cell_type": "code",
   "execution_count": 7,
   "metadata": {},
   "outputs": [
    {
     "data": {
      "text/plain": [
       "\u001b[32mimport \u001b[39m\u001b[36morg.apache.spark.sql._\n",
       "\u001b[39m\n",
       "\u001b[32mimport \u001b[39m\u001b[36mspark.implicits._\u001b[39m"
      ]
     },
     "execution_count": 7,
     "metadata": {},
     "output_type": "execute_result"
    }
   ],
   "source": [
    "import org.apache.spark.sql._\n",
    "import spark.implicits._"
   ]
  },
  {
   "cell_type": "code",
   "execution_count": 8,
   "metadata": {},
   "outputs": [
    {
     "data": {
      "text/plain": [
       "\u001b[36mspark\u001b[39m: \u001b[32mSparkSession\u001b[39m = org.apache.spark.sql.SparkSession@79f04275"
      ]
     },
     "execution_count": 8,
     "metadata": {},
     "output_type": "execute_result"
    }
   ],
   "source": [
    "val spark = {\n",
    "  SparkSession.builder()\n",
    "    .master(\"local[*]\")\n",
    "    .config(\"spark.testing.memory\", 471859200)\n",
    "    .config(\"spark.executor.instances\", \"4\")\n",
    "    .config(\"spark.executor.memory\", \"2g\")\n",
    "    .getOrCreate()\n",
    "}"
   ]
  },
  {
   "cell_type": "code",
   "execution_count": 9,
   "metadata": {},
   "outputs": [
    {
     "data": {
      "text/plain": [
       "\u001b[36mdf\u001b[39m: \u001b[32mDataFrame\u001b[39m = [instanceId_userId: int, instanceId_objectType: string ... 167 more fields]"
      ]
     },
     "execution_count": 9,
     "metadata": {},
     "output_type": "execute_result"
    }
   ],
   "source": [
    "val df = spark.read.format(\"parquet\").load(\"data/train\")"
   ]
  },
  {
   "cell_type": "code",
   "execution_count": 10,
   "metadata": {},
   "outputs": [
    {
     "name": "stdout",
     "output_type": "stream",
     "text": [
      "instanceId_userId\n",
      "instanceId_objectType\n",
      "instanceId_objectId\n",
      "audit_pos\n",
      "audit_clientType\n",
      "audit_timestamp\n",
      "audit_timePassed\n",
      "audit_experiment\n",
      "audit_resourceType\n",
      "metadata_ownerId\n",
      "metadata_ownerType\n",
      "metadata_createdAt\n",
      "metadata_authorId\n",
      "metadata_applicationId\n",
      "metadata_numCompanions\n",
      "metadata_numPhotos\n",
      "metadata_numPolls\n",
      "metadata_numSymbols\n",
      "metadata_numTokens\n",
      "metadata_numVideos\n",
      "metadata_platform\n",
      "metadata_totalVideoLength\n",
      "metadata_options\n",
      "relationsMask\n",
      "userOwnerCounters_USER_FEED_REMOVE\n",
      "userOwnerCounters_USER_PROFILE_VIEW\n",
      "userOwnerCounters_VOTE_POLL\n",
      "userOwnerCounters_USER_SEND_MESSAGE\n",
      "userOwnerCounters_USER_DELETE_MESSAGE\n",
      "userOwnerCounters_USER_INTERNAL_LIKE\n",
      "userOwnerCounters_USER_INTERNAL_UNLIKE\n",
      "userOwnerCounters_USER_STATUS_COMMENT_CREATE\n",
      "userOwnerCounters_PHOTO_COMMENT_CREATE\n",
      "userOwnerCounters_MOVIE_COMMENT_CREATE\n",
      "userOwnerCounters_USER_PHOTO_ALBUM_COMMENT_CREATE\n",
      "userOwnerCounters_COMMENT_INTERNAL_LIKE\n",
      "userOwnerCounters_USER_FORUM_MESSAGE_CREATE\n",
      "userOwnerCounters_PHOTO_MARK_CREATE\n",
      "userOwnerCounters_PHOTO_VIEW\n",
      "userOwnerCounters_PHOTO_PIN_BATCH_CREATE\n",
      "userOwnerCounters_PHOTO_PIN_UPDATE\n",
      "userOwnerCounters_USER_PRESENT_SEND\n",
      "userOwnerCounters_UNKNOWN\n",
      "userOwnerCounters_CREATE_TOPIC\n",
      "userOwnerCounters_CREATE_IMAGE\n",
      "userOwnerCounters_CREATE_MOVIE\n",
      "userOwnerCounters_CREATE_COMMENT\n",
      "userOwnerCounters_CREATE_LIKE\n",
      "userOwnerCounters_TEXT\n",
      "userOwnerCounters_IMAGE\n",
      "userOwnerCounters_VIDEO\n",
      "ownerUserCounters_USER_FEED_REMOVE\n",
      "ownerUserCounters_USER_PROFILE_VIEW\n",
      "ownerUserCounters_VOTE_POLL\n",
      "ownerUserCounters_USER_SEND_MESSAGE\n",
      "ownerUserCounters_USER_DELETE_MESSAGE\n",
      "ownerUserCounters_USER_INTERNAL_LIKE\n",
      "ownerUserCounters_USER_INTERNAL_UNLIKE\n",
      "ownerUserCounters_USER_STATUS_COMMENT_CREATE\n",
      "ownerUserCounters_PHOTO_COMMENT_CREATE\n",
      "ownerUserCounters_MOVIE_COMMENT_CREATE\n",
      "ownerUserCounters_USER_PHOTO_ALBUM_COMMENT_CREATE\n",
      "ownerUserCounters_COMMENT_INTERNAL_LIKE\n",
      "ownerUserCounters_USER_FORUM_MESSAGE_CREATE\n",
      "ownerUserCounters_PHOTO_MARK_CREATE\n",
      "ownerUserCounters_PHOTO_VIEW\n",
      "ownerUserCounters_PHOTO_PIN_BATCH_CREATE\n",
      "ownerUserCounters_PHOTO_PIN_UPDATE\n",
      "ownerUserCounters_USER_PRESENT_SEND\n",
      "ownerUserCounters_UNKNOWN\n",
      "ownerUserCounters_CREATE_TOPIC\n",
      "ownerUserCounters_CREATE_IMAGE\n",
      "ownerUserCounters_CREATE_MOVIE\n",
      "ownerUserCounters_CREATE_COMMENT\n",
      "ownerUserCounters_CREATE_LIKE\n",
      "ownerUserCounters_TEXT\n",
      "ownerUserCounters_IMAGE\n",
      "ownerUserCounters_VIDEO\n",
      "membership_status\n",
      "membership_statusUpdateDate\n",
      "membership_joinDate\n",
      "membership_joinRequestDate\n",
      "owner_create_date\n",
      "owner_birth_date\n",
      "owner_gender\n",
      "owner_status\n",
      "owner_ID_country\n",
      "owner_ID_Location\n",
      "owner_is_active\n",
      "owner_is_deleted\n",
      "owner_is_abused\n",
      "owner_is_activated\n",
      "owner_change_datime\n",
      "owner_is_semiactivated\n",
      "owner_region\n",
      "user_create_date\n",
      "user_birth_date\n",
      "user_gender\n",
      "user_status\n",
      "user_ID_country\n",
      "user_ID_Location\n",
      "user_is_active\n",
      "user_is_deleted\n",
      "user_is_abused\n",
      "user_is_activated\n",
      "user_change_datime\n",
      "user_is_semiactivated\n",
      "user_region\n",
      "feedback\n",
      "objectId\n",
      "auditweights_ageMs\n",
      "auditweights_closed\n",
      "auditweights_ctr_gender\n",
      "auditweights_ctr_high\n",
      "auditweights_ctr_negative\n",
      "auditweights_dailyRecency\n",
      "auditweights_feedOwner_RECOMMENDED_GROUP\n",
      "auditweights_feedStats\n",
      "auditweights_friendCommentFeeds\n",
      "auditweights_friendCommenters\n",
      "auditweights_friendLikes\n",
      "auditweights_friendLikes_actors\n",
      "auditweights_hasDetectedText\n",
      "auditweights_hasText\n",
      "auditweights_isPymk\n",
      "auditweights_isRandom\n",
      "auditweights_likersFeedStats_hyper\n",
      "auditweights_likersSvd_prelaunch_hyper\n",
      "auditweights_matrix\n",
      "auditweights_notOriginalPhoto\n",
      "auditweights_numDislikes\n",
      "auditweights_numLikes\n",
      "auditweights_numShows\n",
      "auditweights_onlineVideo\n",
      "auditweights_partAge\n",
      "auditweights_partCtr\n",
      "auditweights_partSvd\n",
      "auditweights_processedVideo\n",
      "auditweights_relationMasks\n",
      "auditweights_source_LIVE_TOP\n",
      "auditweights_source_MOVIE_TOP\n",
      "auditweights_svd_prelaunch\n",
      "auditweights_svd_spark\n",
      "auditweights_userAge\n",
      "auditweights_userOwner_CREATE_COMMENT\n",
      "auditweights_userOwner_CREATE_IMAGE\n",
      "auditweights_userOwner_CREATE_LIKE\n",
      "auditweights_userOwner_IMAGE\n",
      "auditweights_userOwner_MOVIE_COMMENT_CREATE\n",
      "auditweights_userOwner_PHOTO_COMMENT_CREATE\n",
      "auditweights_userOwner_PHOTO_MARK_CREATE\n",
      "auditweights_userOwner_PHOTO_VIEW\n",
      "auditweights_userOwner_TEXT\n",
      "auditweights_userOwner_UNKNOWN\n",
      "auditweights_userOwner_USER_DELETE_MESSAGE\n",
      "auditweights_userOwner_USER_FEED_REMOVE\n",
      "auditweights_userOwner_USER_FORUM_MESSAGE_CREATE\n",
      "auditweights_userOwner_USER_INTERNAL_LIKE\n",
      "auditweights_userOwner_USER_INTERNAL_UNLIKE\n",
      "auditweights_userOwner_USER_PRESENT_SEND\n",
      "auditweights_userOwner_USER_PROFILE_VIEW\n",
      "auditweights_userOwner_USER_SEND_MESSAGE\n",
      "auditweights_userOwner_USER_STATUS_COMMENT_CREATE\n",
      "auditweights_userOwner_VIDEO\n",
      "auditweights_userOwner_VOTE_POLL\n",
      "auditweights_x_ActorsRelations\n",
      "auditweights_likersSvd_spark_hyper\n",
      "auditweights_source_PROMO\n",
      "date\n"
     ]
    }
   ],
   "source": [
    "//  посмотрим на список колонок\n",
    "for (c <- df.columns) {\n",
    "    println(c)\n",
    "}"
   ]
  },
  {
   "cell_type": "code",
   "execution_count": 31,
   "metadata": {},
   "outputs": [
    {
     "data": {
      "text/plain": [
       "\u001b[36mdf_exp\u001b[39m: \u001b[32mDataFrame\u001b[39m = [instanceId_userId: int, instanceId_objectType: string ... 168 more fields]"
      ]
     },
     "execution_count": 31,
     "metadata": {},
     "output_type": "execute_result"
    }
   ],
   "source": [
    "df.createOrReplaceTempView(\"trainDF\")\n",
    "val df_exp = spark.sql(\"\"\"\n",
    "    select t.*, explode(feedback) as fb_exp from trainDF t \n",
    "\"\"\")\n",
    "df_exp.createOrReplaceTempView(\"trainDF_exp\")"
   ]
  },
  {
   "cell_type": "markdown",
   "metadata": {},
   "source": [
    "# Задание 1 - Постройте топ популярных групп на портале"
   ]
  },
  {
   "cell_type": "code",
   "execution_count": 32,
   "metadata": {},
   "outputs": [
    {
     "name": "stdout",
     "output_type": "stream",
     "text": [
      "+----------------+--------+\n",
      "|metadata_ownerId|like_cnt|\n",
      "+----------------+--------+\n",
      "|           37463|   16726|\n",
      "|           11222|   12301|\n",
      "|           18942|   10160|\n",
      "|           14285|   10024|\n",
      "|           62833|    9428|\n",
      "|           26843|    8779|\n",
      "|           19481|    8717|\n",
      "|           79619|    8519|\n",
      "|           11058|    8384|\n",
      "|           26735|    7770|\n",
      "+----------------+--------+\n",
      "only showing top 10 rows\n",
      "\n"
     ]
    }
   ],
   "source": [
    "spark.sql(\"\"\"\n",
    "    select metadata_ownerId, count(*) as like_cnt from trainDF_exp\n",
    "    where fb_exp = 'Liked'\n",
    "    group by metadata_ownerId\n",
    "    order by like_cnt desc\n",
    "\"\"\").show(10)"
   ]
  },
  {
   "cell_type": "code",
   "execution_count": 38,
   "metadata": {},
   "outputs": [
    {
     "name": "stdout",
     "output_type": "stream",
     "text": [
      "+---------+\n",
      "|   fb_exp|\n",
      "+---------+\n",
      "|Commented|\n",
      "|   Viewed|\n",
      "| ReShared|\n",
      "|  Clicked|\n",
      "|Complaint|\n",
      "|  Ignored|\n",
      "| Disliked|\n",
      "|    Liked|\n",
      "|  Unliked|\n",
      "+---------+\n",
      "\n"
     ]
    }
   ],
   "source": [
    "spark.sql(\"\"\"\n",
    "    select distinct fb_exp from trainDF_exp\n",
    "\"\"\").show()"
   ]
  },
  {
   "cell_type": "code",
   "execution_count": 67,
   "metadata": {},
   "outputs": [
    {
     "data": {
      "text/plain": [
       "\u001b[36mactivityDF\u001b[39m: \u001b[32mDataset\u001b[39m[\u001b[32mRow\u001b[39m] = [created_hour_a: string, cnt_a: bigint]\n",
       "\u001b[36mpopularityDF\u001b[39m: \u001b[32mDataset\u001b[39m[\u001b[32mRow\u001b[39m] = [created_hour_p: string, cnt_p: bigint]"
      ]
     },
     "execution_count": 67,
     "metadata": {},
     "output_type": "execute_result"
    }
   ],
   "source": [
    "val activityDF = spark.sql(\"\"\"\n",
    "    select created_hour as created_hour_a, count(*) as cnt_a from (\n",
    "        select \n",
    "            from_unixtime(metadata_createdAt, 'HH') as created_hour\n",
    "            , fb_exp\n",
    "        from trainDF_exp \n",
    "        where fb_exp <> 'Ignored'\n",
    "    ) \n",
    "    group by created_hour\n",
    "\"\"\").as(\"df_activity\")\n",
    "\n",
    "val popularityDF = spark.sql(\"\"\"\n",
    "    select created_hour as created_hour_p, count(*) as cnt_p from (\n",
    "        select \n",
    "            from_unixtime(metadata_createdAt, 'HH') as created_hour\n",
    "            , fb_exp\n",
    "        from trainDF_exp \n",
    "        where fb_exp = 'Liked'\n",
    "    ) \n",
    "    group by created_hour\n",
    "\"\"\").as(\"df_popularity\")\n",
    "\n"
   ]
  },
  {
   "cell_type": "code",
   "execution_count": 68,
   "metadata": {},
   "outputs": [
    {
     "data": {
      "text/plain": [
       "\u001b[36mjoined_df\u001b[39m: \u001b[32mDataFrame\u001b[39m = [created_hour_a: string, cnt_a: bigint ... 2 more fields]"
      ]
     },
     "execution_count": 68,
     "metadata": {},
     "output_type": "execute_result"
    }
   ],
   "source": [
    "val joined_df = activityDF.join(\n",
    "popularityDF\n",
    ", $\"created_hour_a\" === $\"created_hour_p\"\n",
    ", \"inner\")"
   ]
  },
  {
   "cell_type": "code",
   "execution_count": 73,
   "metadata": {},
   "outputs": [
    {
     "name": "stdout",
     "output_type": "stream",
     "text": [
      "+--------------+------+--------------+------+\n",
      "|created_hour_a| cnt_a|created_hour_p| cnt_p|\n",
      "+--------------+------+--------------+------+\n",
      "|            07|340855|            07|142981|\n",
      "|            15|328408|            15|137408|\n",
      "|            11|317125|            11|132435|\n",
      "|            01|321707|            01|134482|\n",
      "|            22|307189|            22|128918|\n",
      "|            16|316001|            16|131774|\n",
      "|            18|326375|            18|134195|\n",
      "|            00|312314|            00|131087|\n",
      "|            17|325420|            17|134038|\n",
      "|            09|323576|            09|136853|\n",
      "|            05|320993|            05|135081|\n",
      "|            19|328067|            19|134972|\n",
      "|            23|328270|            23|138830|\n",
      "|            08|312593|            08|131175|\n",
      "|            03|315376|            03|132778|\n",
      "|            02|319148|            02|131933|\n",
      "|            06|313794|            06|131198|\n",
      "|            20|335332|            20|139733|\n",
      "|            10|323072|            10|135167|\n",
      "|            12|316304|            12|130546|\n",
      "|            04|325096|            04|136470|\n",
      "|            13|322514|            13|135089|\n",
      "|            14|303189|            14|127380|\n",
      "|            21|323341|            21|135906|\n",
      "+--------------+------+--------------+------+\n",
      "\n"
     ]
    }
   ],
   "source": [
    "joined_df.show(24)\n",
    "joined_df.createOrReplaceTempView(\"joined_df\")"
   ]
  },
  {
   "cell_type": "code",
   "execution_count": 50,
   "metadata": {},
   "outputs": [
    {
     "data": {
      "text/plain": [
       "\u001b[32mimport \u001b[39m\u001b[36m$ivy.$                                      \n",
       "\n",
       "\u001b[39m\n",
       "\u001b[32mimport \u001b[39m\u001b[36mplotly._\n",
       "\u001b[39m\n",
       "\u001b[32mimport \u001b[39m\u001b[36mplotly.element._\n",
       "\u001b[39m\n",
       "\u001b[32mimport \u001b[39m\u001b[36mplotly.layout._\n",
       "\u001b[39m\n",
       "\u001b[32mimport \u001b[39m\u001b[36mplotly.Almond._\n",
       "\n",
       "\u001b[39m"
      ]
     },
     "execution_count": 50,
     "metadata": {},
     "output_type": "execute_result"
    }
   ],
   "source": [
    "import $ivy.`org.plotly-scala::plotly-almond:0.7.0`\n",
    "\n",
    "import plotly._\n",
    "import plotly.element._\n",
    "import plotly.layout._\n",
    "import plotly.Almond._\n",
    "\n"
   ]
  },
  {
   "cell_type": "code",
   "execution_count": 109,
   "metadata": {},
   "outputs": [
    {
     "data": {
      "text/plain": [
       "\u001b[36mj_res\u001b[39m: \u001b[32mDataFrame\u001b[39m = [created_hour_a: string, cnt_a: bigint ... 1 more field]\n",
       "\u001b[36mhours\u001b[39m: \u001b[32mSeq\u001b[39m[\u001b[32mString\u001b[39m] = \u001b[33mList\u001b[39m(\n",
       "  \u001b[32m\"23\"\u001b[39m,\n",
       "  \u001b[32m\"22\"\u001b[39m,\n",
       "  \u001b[32m\"21\"\u001b[39m,\n",
       "  \u001b[32m\"20\"\u001b[39m,\n",
       "  \u001b[32m\"19\"\u001b[39m,\n",
       "  \u001b[32m\"18\"\u001b[39m,\n",
       "  \u001b[32m\"17\"\u001b[39m,\n",
       "  \u001b[32m\"16\"\u001b[39m,\n",
       "  \u001b[32m\"15\"\u001b[39m,\n",
       "  \u001b[32m\"14\"\u001b[39m,\n",
       "  \u001b[32m\"13\"\u001b[39m,\n",
       "  \u001b[32m\"12\"\u001b[39m,\n",
       "  \u001b[32m\"11\"\u001b[39m,\n",
       "  \u001b[32m\"10\"\u001b[39m,\n",
       "  \u001b[32m\"09\"\u001b[39m,\n",
       "  \u001b[32m\"08\"\u001b[39m,\n",
       "  \u001b[32m\"07\"\u001b[39m,\n",
       "  \u001b[32m\"06\"\u001b[39m,\n",
       "  \u001b[32m\"05\"\u001b[39m,\n",
       "  \u001b[32m\"04\"\u001b[39m,\n",
       "  \u001b[32m\"03\"\u001b[39m,\n",
       "  \u001b[32m\"02\"\u001b[39m,\n",
       "  \u001b[32m\"01\"\u001b[39m,\n",
       "  \u001b[32m\"00\"\u001b[39m\n",
       ")\n",
       "\u001b[36mcnt_a\u001b[39m: \u001b[32mSeq\u001b[39m[\u001b[32mInt\u001b[39m] = \u001b[33mList\u001b[39m(\n",
       "  \u001b[32m328270\u001b[39m,\n",
       "  \u001b[32m307189\u001b[39m,\n",
       "  \u001b[32m323341\u001b[39m,\n",
       "  \u001b[32m335332\u001b[39m,\n",
       "  \u001b[32m328067\u001b[39m,\n",
       "  \u001b[32m326375\u001b[39m,\n",
       "  \u001b[32m325420\u001b[39m,\n",
       "  \u001b[32m316001\u001b[39m,\n",
       "  \u001b[32m328408\u001b[39m,\n",
       "  \u001b[32m303189\u001b[39m,\n",
       "  \u001b[32m322514\u001b[39m,\n",
       "  \u001b[32m316304\u001b[39m,\n",
       "  \u001b[32m317125\u001b[39m,\n",
       "  \u001b[32m323072\u001b[39m,\n",
       "  \u001b[32m323576\u001b[39m,\n",
       "  \u001b[32m312593\u001b[39m,\n",
       "  \u001b[32m340855\u001b[39m,\n",
       "  \u001b[32m313794\u001b[39m,\n",
       "  \u001b[32m320993\u001b[39m,\n",
       "  \u001b[32m325096\u001b[39m,\n",
       "  \u001b[32m315376\u001b[39m,\n",
       "  \u001b[32m319148\u001b[39m,\n",
       "  \u001b[32m321707\u001b[39m,\n",
       "  \u001b[32m312314\u001b[39m\n",
       ")\n",
       "\u001b[36mcnt_p\u001b[39m: \u001b[32mSeq\u001b[39m[\u001b[32mInt\u001b[39m] = \u001b[33mList\u001b[39m(\n",
       "  \u001b[32m138830\u001b[39m,\n",
       "  \u001b[32m128918\u001b[39m,\n",
       "  \u001b[32m135906\u001b[39m,\n",
       "  \u001b[32m139733\u001b[39m,\n",
       "  \u001b[32m134972\u001b[39m,\n",
       "  \u001b[32m134195\u001b[39m,\n",
       "  \u001b[32m134038\u001b[39m,\n",
       "  \u001b[32m131774\u001b[39m,\n",
       "  \u001b[32m137408\u001b[39m,\n",
       "  \u001b[32m127380\u001b[39m,\n",
       "  \u001b[32m135089\u001b[39m,\n",
       "  \u001b[32m130546\u001b[39m,\n",
       "  \u001b[32m132435\u001b[39m,\n",
       "  \u001b[32m135167\u001b[39m,\n",
       "  \u001b[32m136853\u001b[39m,\n",
       "  \u001b[32m131175\u001b[39m,\n",
       "  \u001b[32m142981\u001b[39m,\n",
       "  \u001b[32m131198\u001b[39m,\n",
       "  \u001b[32m135081\u001b[39m,\n",
       "  \u001b[32m136470\u001b[39m,\n",
       "  \u001b[32m132778\u001b[39m,\n",
       "  \u001b[32m131933\u001b[39m,\n",
       "  \u001b[32m134482\u001b[39m,\n",
       "  \u001b[32m131087\u001b[39m\n",
       ")"
      ]
     },
     "execution_count": 109,
     "metadata": {},
     "output_type": "execute_result"
    }
   ],
   "source": [
    "val j_res = spark.sql(\"\"\"\n",
    "    select created_hour_a, cnt_a, cnt_p\n",
    "    from joined_df\n",
    "    order by created_hour_a desc\n",
    "\"\"\")\n",
    "\n",
    "\n",
    "var hours = Seq[String]()\n",
    "var cnt_a = Seq[Int]()\n",
    "var cnt_p = Seq[Int]()\n",
    "\n",
    "for (row <- j_res.collect()){\n",
    "    hours = hours :+ row(0).asInstanceOf[String]\n",
    "    cnt_a = cnt_a :+ row(1).asInstanceOf[Long].toInt\n",
    "    cnt_p = cnt_p :+ row(2).asInstanceOf[Long].toInt\n",
    "}"
   ]
  },
  {
   "cell_type": "code",
   "execution_count": 118,
   "metadata": {},
   "outputs": [
    {
     "data": {
      "application/vnd.plotly.v1+json": {
       "data": [
        {
         "marker": {
          "color": "rgb(49, 130, 189)",
          "opacity": 0.7
         },
         "name": "Активность",
         "text": [
          "Час 23",
          "Час 22",
          "Час 21",
          "Час 20",
          "Час 19",
          "Час 18",
          "Час 17",
          "Час 16",
          "Час 15",
          "Час 14",
          "Час 13",
          "Час 12",
          "Час 11",
          "Час 10",
          "Час 09",
          "Час 08",
          "Час 07",
          "Час 06",
          "Час 05",
          "Час 04",
          "Час 03",
          "Час 02",
          "Час 01",
          "Час 00"
         ],
         "type": "bar",
         "x": [
          "23",
          "22",
          "21",
          "20",
          "19",
          "18",
          "17",
          "16",
          "15",
          "14",
          "13",
          "12",
          "11",
          "10",
          "09",
          "08",
          "07",
          "06",
          "05",
          "04",
          "03",
          "02",
          "01",
          "00"
         ],
         "y": [
          328270,
          307189,
          323341,
          335332,
          328067,
          326375,
          325420,
          316001,
          328408,
          303189,
          322514,
          316304,
          317125,
          323072,
          323576,
          312593,
          340855,
          313794,
          320993,
          325096,
          315376,
          319148,
          321707,
          312314
         ]
        },
        {
         "marker": {
          "color": "rgb(204, 0, 0)",
          "opacity": 0.7
         },
         "name": "Популярность",
         "text": [
          "Час 23",
          "Час 22",
          "Час 21",
          "Час 20",
          "Час 19",
          "Час 18",
          "Час 17",
          "Час 16",
          "Час 15",
          "Час 14",
          "Час 13",
          "Час 12",
          "Час 11",
          "Час 10",
          "Час 09",
          "Час 08",
          "Час 07",
          "Час 06",
          "Час 05",
          "Час 04",
          "Час 03",
          "Час 02",
          "Час 01",
          "Час 00"
         ],
         "type": "bar",
         "x": [
          "23",
          "22",
          "21",
          "20",
          "19",
          "18",
          "17",
          "16",
          "15",
          "14",
          "13",
          "12",
          "11",
          "10",
          "09",
          "08",
          "07",
          "06",
          "05",
          "04",
          "03",
          "02",
          "01",
          "00"
         ],
         "y": [
          138830,
          128918,
          135906,
          139733,
          134972,
          134195,
          134038,
          131774,
          137408,
          127380,
          135089,
          130546,
          132435,
          135167,
          136853,
          131175,
          142981,
          131198,
          135081,
          136470,
          132778,
          131933,
          134482,
          131087
         ]
        }
       ],
       "layout": {
        "title": "Данные активности и популярности групп по времени дня"
       }
      },
      "text/html": [
       "<div class=\"chart\" id=\"plot-896a1480-c501-4889-907a-fb0717d521d6\"></div>\n",
       "<script>require(['plotly'], function(Plotly) {\n",
       "  (function () {\n",
       "  var data0 = {\"x\":[\"23\",\"22\",\"21\",\"20\",\"19\",\"18\",\"17\",\"16\",\"15\",\"14\",\"13\",\"12\",\"11\",\"10\",\"09\",\"08\",\"07\",\"06\",\"05\",\"04\",\"03\",\"02\",\"01\",\"00\"],\"name\":\"Активность\",\"y\":[328270.0,307189.0,323341.0,335332.0,328067.0,326375.0,325420.0,316001.0,328408.0,303189.0,322514.0,316304.0,317125.0,323072.0,323576.0,312593.0,340855.0,313794.0,320993.0,325096.0,315376.0,319148.0,321707.0,312314.0],\"marker\":{\"color\":\"rgb(49, 130, 189)\",\"opacity\":0.7},\"text\":[\"Час 23\",\"Час 22\",\"Час 21\",\"Час 20\",\"Час 19\",\"Час 18\",\"Час 17\",\"Час 16\",\"Час 15\",\"Час 14\",\"Час 13\",\"Час 12\",\"Час 11\",\"Час 10\",\"Час 09\",\"Час 08\",\"Час 07\",\"Час 06\",\"Час 05\",\"Час 04\",\"Час 03\",\"Час 02\",\"Час 01\",\"Час 00\"],\"type\":\"bar\"};\n",
       "  var data1 = {\"x\":[\"23\",\"22\",\"21\",\"20\",\"19\",\"18\",\"17\",\"16\",\"15\",\"14\",\"13\",\"12\",\"11\",\"10\",\"09\",\"08\",\"07\",\"06\",\"05\",\"04\",\"03\",\"02\",\"01\",\"00\"],\"name\":\"Популярность\",\"y\":[138830.0,128918.0,135906.0,139733.0,134972.0,134195.0,134038.0,131774.0,137408.0,127380.0,135089.0,130546.0,132435.0,135167.0,136853.0,131175.0,142981.0,131198.0,135081.0,136470.0,132778.0,131933.0,134482.0,131087.0],\"marker\":{\"color\":\"rgb(204, 0, 0)\",\"opacity\":0.7},\"text\":[\"Час 23\",\"Час 22\",\"Час 21\",\"Час 20\",\"Час 19\",\"Час 18\",\"Час 17\",\"Час 16\",\"Час 15\",\"Час 14\",\"Час 13\",\"Час 12\",\"Час 11\",\"Час 10\",\"Час 09\",\"Час 08\",\"Час 07\",\"Час 06\",\"Час 05\",\"Час 04\",\"Час 03\",\"Час 02\",\"Час 01\",\"Час 00\"],\"type\":\"bar\"};\n",
       "\n",
       "  var data = [data0, data1];\n",
       "  var layout = {\"title\":\"Данные активности и популярности групп по времени дня\"};\n",
       "\n",
       "  Plotly.plot('plot-896a1480-c501-4889-907a-fb0717d521d6', data, layout);\n",
       "})();\n",
       "});\n",
       "      </script>\n",
       "           "
      ]
     },
     "metadata": {},
     "output_type": "display_data"
    },
    {
     "data": {
      "text/plain": [
       "\u001b[36mtrace1\u001b[39m: \u001b[32mBar\u001b[39m = \u001b[33mBar\u001b[39m(\n",
       "  \u001b[33mStrings\u001b[39m(\n",
       "    \u001b[33mList\u001b[39m(\n",
       "      \u001b[32m\"23\"\u001b[39m,\n",
       "      \u001b[32m\"22\"\u001b[39m,\n",
       "      \u001b[32m\"21\"\u001b[39m,\n",
       "      \u001b[32m\"20\"\u001b[39m,\n",
       "      \u001b[32m\"19\"\u001b[39m,\n",
       "      \u001b[32m\"18\"\u001b[39m,\n",
       "      \u001b[32m\"17\"\u001b[39m,\n",
       "      \u001b[32m\"16\"\u001b[39m,\n",
       "      \u001b[32m\"15\"\u001b[39m,\n",
       "      \u001b[32m\"14\"\u001b[39m,\n",
       "      \u001b[32m\"13\"\u001b[39m,\n",
       "      \u001b[32m\"12\"\u001b[39m,\n",
       "      \u001b[32m\"11\"\u001b[39m,\n",
       "      \u001b[32m\"10\"\u001b[39m,\n",
       "      \u001b[32m\"09\"\u001b[39m,\n",
       "      \u001b[32m\"08\"\u001b[39m,\n",
       "      \u001b[32m\"07\"\u001b[39m,\n",
       "      \u001b[32m\"06\"\u001b[39m,\n",
       "      \u001b[32m\"05\"\u001b[39m,\n",
       "      \u001b[32m\"04\"\u001b[39m,\n",
       "      \u001b[32m\"03\"\u001b[39m,\n",
       "      \u001b[32m\"02\"\u001b[39m,\n",
       "      \u001b[32m\"01\"\u001b[39m,\n",
       "      \u001b[32m\"00\"\u001b[39m\n",
       "    )\n",
       "  ),\n",
       "  \u001b[33mDoubles\u001b[39m(\n",
       "    \u001b[33mList\u001b[39m(\n",
       "      \u001b[32m328270.0\u001b[39m,\n",
       "      \u001b[32m307189.0\u001b[39m,\n",
       "      \u001b[32m323341.0\u001b[39m,\n",
       "      \u001b[32m335332.0\u001b[39m,\n",
       "      \u001b[32m328067.0\u001b[39m,\n",
       "      \u001b[32m326375.0\u001b[39m,\n",
       "      \u001b[32m325420.0\u001b[39m,\n",
       "      \u001b[32m316001.0\u001b[39m,\n",
       "...\n",
       "\u001b[36mtrace2\u001b[39m: \u001b[32mBar\u001b[39m = \u001b[33mBar\u001b[39m(\n",
       "  \u001b[33mStrings\u001b[39m(\n",
       "    \u001b[33mList\u001b[39m(\n",
       "      \u001b[32m\"23\"\u001b[39m,\n",
       "      \u001b[32m\"22\"\u001b[39m,\n",
       "      \u001b[32m\"21\"\u001b[39m,\n",
       "      \u001b[32m\"20\"\u001b[39m,\n",
       "      \u001b[32m\"19\"\u001b[39m,\n",
       "      \u001b[32m\"18\"\u001b[39m,\n",
       "      \u001b[32m\"17\"\u001b[39m,\n",
       "      \u001b[32m\"16\"\u001b[39m,\n",
       "      \u001b[32m\"15\"\u001b[39m,\n",
       "      \u001b[32m\"14\"\u001b[39m,\n",
       "      \u001b[32m\"13\"\u001b[39m,\n",
       "      \u001b[32m\"12\"\u001b[39m,\n",
       "      \u001b[32m\"11\"\u001b[39m,\n",
       "      \u001b[32m\"10\"\u001b[39m,\n",
       "      \u001b[32m\"09\"\u001b[39m,\n",
       "      \u001b[32m\"08\"\u001b[39m,\n",
       "      \u001b[32m\"07\"\u001b[39m,\n",
       "      \u001b[32m\"06\"\u001b[39m,\n",
       "      \u001b[32m\"05\"\u001b[39m,\n",
       "      \u001b[32m\"04\"\u001b[39m,\n",
       "      \u001b[32m\"03\"\u001b[39m,\n",
       "      \u001b[32m\"02\"\u001b[39m,\n",
       "      \u001b[32m\"01\"\u001b[39m,\n",
       "      \u001b[32m\"00\"\u001b[39m\n",
       "    )\n",
       "  ),\n",
       "  \u001b[33mDoubles\u001b[39m(\n",
       "    \u001b[33mList\u001b[39m(\n",
       "      \u001b[32m138830.0\u001b[39m,\n",
       "      \u001b[32m128918.0\u001b[39m,\n",
       "      \u001b[32m135906.0\u001b[39m,\n",
       "      \u001b[32m139733.0\u001b[39m,\n",
       "      \u001b[32m134972.0\u001b[39m,\n",
       "      \u001b[32m134195.0\u001b[39m,\n",
       "      \u001b[32m134038.0\u001b[39m,\n",
       "      \u001b[32m131774.0\u001b[39m,\n",
       "...\n",
       "\u001b[36mres117_2\u001b[39m: \u001b[32mString\u001b[39m = \u001b[32m\"plot-896a1480-c501-4889-907a-fb0717d521d6\"\u001b[39m"
      ]
     },
     "execution_count": 118,
     "metadata": {},
     "output_type": "execute_result"
    }
   ],
   "source": [
    "\n",
    "val trace1 = Bar(\n",
    "  hours,\n",
    "  cnt_a,\n",
    "  \"Активность\",\n",
    "  text = hours.map(x => \"Час \" + x),\n",
    "  // orientation = Orientation.Horizontal,\n",
    "  marker = Marker(\n",
    "    color = Color.RGB(49, 130, 189),\n",
    "    opacity = 0.7))\n",
    "\n",
    "val trace2 = Bar(\n",
    "  hours,\n",
    "  cnt_p,\n",
    "  \"Популярность\",\n",
    "  text = hours.map(x => \"Час \" + x),\n",
    "  // orientation = Orientation.Horizontal,\n",
    "  marker = Marker(\n",
    "    color = Color.RGB(204, 0, 0),\n",
    "    opacity = 0.7))\n",
    "\n",
    "Seq(trace1, trace2).plot(\"Данные активности и популярности групп по времени дня\")"
   ]
  },
  {
   "cell_type": "code",
   "execution_count": null,
   "metadata": {},
   "outputs": [],
   "source": []
  },
  {
   "cell_type": "code",
   "execution_count": null,
   "metadata": {},
   "outputs": [],
   "source": []
  },
  {
   "cell_type": "code",
   "execution_count": null,
   "metadata": {},
   "outputs": [],
   "source": []
  }
 ],
 "metadata": {
  "kernelspec": {
   "display_name": "Scala 2.11",
   "language": "scala",
   "name": "scala211"
  },
  "language_info": {
   "codemirror_mode": "text/x-scala",
   "file_extension": ".scala",
   "mimetype": "text/x-scala",
   "name": "scala",
   "nbconvert_exporter": "script",
   "version": "2.11.12"
  }
 },
 "nbformat": 4,
 "nbformat_minor": 2
}
