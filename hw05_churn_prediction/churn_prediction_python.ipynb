{
 "cells": [
  {
   "cell_type": "code",
   "execution_count": 1,
   "metadata": {},
   "outputs": [],
   "source": [
    "import pandas as pd\n",
    "import matplotlib.pyplot as plt\n",
    "from sklearn.cluster import KMeans\n",
    "from sklearn.preprocessing import StandardScaler\n",
    "import seaborn as sns\n",
    "%matplotlib inline"
   ]
  },
  {
   "cell_type": "code",
   "execution_count": 23,
   "metadata": {},
   "outputs": [
    {
     "name": "stderr",
     "output_type": "stream",
     "text": [
      "WARNING: An illegal reflective access operation has occurred\n",
      "WARNING: Illegal reflective access by org.apache.spark.unsafe.Platform (file:/usr/local/spark-3.1.2-bin-hadoop3.2/jars/spark-unsafe_2.12-3.1.2.jar) to constructor java.nio.DirectByteBuffer(long,int)\n",
      "WARNING: Please consider reporting this to the maintainers of org.apache.spark.unsafe.Platform\n",
      "WARNING: Use --illegal-access=warn to enable warnings of further illegal reflective access operations\n",
      "WARNING: All illegal access operations will be denied in a future release\n",
      "21/07/04 13:18:17 WARN NativeCodeLoader: Unable to load native-hadoop library for your platform... using builtin-java classes where applicable\n",
      "Using Spark's default log4j profile: org/apache/spark/log4j-defaults.properties\n",
      "Setting default log level to \"WARN\".\n",
      "To adjust logging level use sc.setLogLevel(newLevel). For SparkR, use setLogLevel(newLevel).\n"
     ]
    }
   ],
   "source": [
    "from pyspark.sql import SparkSession\n",
    "# Spark session & context\n",
    "spark = SparkSession.builder.master('local[*]') \\\n",
    "    .config(\"spark.driver.memory\", \"8g\") \\\n",
    "    .config(\"spark.executor.memory\", \"8g\") \\\n",
    "    .getOrCreate()\n",
    "sc = spark.sparkContext"
   ]
  },
  {
   "cell_type": "code",
   "execution_count": 24,
   "metadata": {},
   "outputs": [
    {
     "name": "stderr",
     "output_type": "stream",
     "text": [
      "                                                                                \r"
     ]
    }
   ],
   "source": [
    "df_raw = spark.read.format(\"parquet\").load(\"data/train\")"
   ]
  },
  {
   "cell_type": "code",
   "execution_count": 25,
   "metadata": {},
   "outputs": [
    {
     "name": "stderr",
     "output_type": "stream",
     "text": [
      "21/07/04 13:18:27 WARN package: Truncated the string representation of a plan since it was too large. This behavior can be adjusted by setting 'spark.sql.debug.maxToStringFields'.\n"
     ]
    }
   ],
   "source": [
    "df_raw.createOrReplaceTempView(\"df_raw\")"
   ]
  },
  {
   "cell_type": "markdown",
   "metadata": {},
   "source": [
    "# Сформировать критерии оттекших/удержавшихся пользователей"
   ]
  },
  {
   "cell_type": "code",
   "execution_count": 26,
   "metadata": {},
   "outputs": [
    {
     "name": "stdout",
     "output_type": "stream",
     "text": [
      "instanceId_userId\n",
      "instanceId_objectType\n",
      "instanceId_objectId\n",
      "audit_pos\n",
      "audit_clientType\n",
      "audit_timestamp\n",
      "audit_timePassed\n",
      "audit_experiment\n",
      "audit_resourceType\n",
      "metadata_ownerId\n",
      "metadata_ownerType\n",
      "metadata_createdAt\n",
      "metadata_authorId\n",
      "metadata_applicationId\n",
      "metadata_numCompanions\n",
      "metadata_numPhotos\n",
      "metadata_numPolls\n",
      "metadata_numSymbols\n",
      "metadata_numTokens\n",
      "metadata_numVideos\n",
      "metadata_platform\n",
      "metadata_totalVideoLength\n",
      "metadata_options\n",
      "relationsMask\n",
      "userOwnerCounters_USER_FEED_REMOVE\n",
      "userOwnerCounters_USER_PROFILE_VIEW\n",
      "userOwnerCounters_VOTE_POLL\n",
      "userOwnerCounters_USER_SEND_MESSAGE\n",
      "userOwnerCounters_USER_DELETE_MESSAGE\n",
      "userOwnerCounters_USER_INTERNAL_LIKE\n",
      "userOwnerCounters_USER_INTERNAL_UNLIKE\n",
      "userOwnerCounters_USER_STATUS_COMMENT_CREATE\n",
      "userOwnerCounters_PHOTO_COMMENT_CREATE\n",
      "userOwnerCounters_MOVIE_COMMENT_CREATE\n",
      "userOwnerCounters_USER_PHOTO_ALBUM_COMMENT_CREATE\n",
      "userOwnerCounters_COMMENT_INTERNAL_LIKE\n",
      "userOwnerCounters_USER_FORUM_MESSAGE_CREATE\n",
      "userOwnerCounters_PHOTO_MARK_CREATE\n",
      "userOwnerCounters_PHOTO_VIEW\n",
      "userOwnerCounters_PHOTO_PIN_BATCH_CREATE\n",
      "userOwnerCounters_PHOTO_PIN_UPDATE\n",
      "userOwnerCounters_USER_PRESENT_SEND\n",
      "userOwnerCounters_UNKNOWN\n",
      "userOwnerCounters_CREATE_TOPIC\n",
      "userOwnerCounters_CREATE_IMAGE\n",
      "userOwnerCounters_CREATE_MOVIE\n",
      "userOwnerCounters_CREATE_COMMENT\n",
      "userOwnerCounters_CREATE_LIKE\n",
      "userOwnerCounters_TEXT\n",
      "userOwnerCounters_IMAGE\n",
      "userOwnerCounters_VIDEO\n",
      "ownerUserCounters_USER_FEED_REMOVE\n",
      "ownerUserCounters_USER_PROFILE_VIEW\n",
      "ownerUserCounters_VOTE_POLL\n",
      "ownerUserCounters_USER_SEND_MESSAGE\n",
      "ownerUserCounters_USER_DELETE_MESSAGE\n",
      "ownerUserCounters_USER_INTERNAL_LIKE\n",
      "ownerUserCounters_USER_INTERNAL_UNLIKE\n",
      "ownerUserCounters_USER_STATUS_COMMENT_CREATE\n",
      "ownerUserCounters_PHOTO_COMMENT_CREATE\n",
      "ownerUserCounters_MOVIE_COMMENT_CREATE\n",
      "ownerUserCounters_USER_PHOTO_ALBUM_COMMENT_CREATE\n",
      "ownerUserCounters_COMMENT_INTERNAL_LIKE\n",
      "ownerUserCounters_USER_FORUM_MESSAGE_CREATE\n",
      "ownerUserCounters_PHOTO_MARK_CREATE\n",
      "ownerUserCounters_PHOTO_VIEW\n",
      "ownerUserCounters_PHOTO_PIN_BATCH_CREATE\n",
      "ownerUserCounters_PHOTO_PIN_UPDATE\n",
      "ownerUserCounters_USER_PRESENT_SEND\n",
      "ownerUserCounters_UNKNOWN\n",
      "ownerUserCounters_CREATE_TOPIC\n",
      "ownerUserCounters_CREATE_IMAGE\n",
      "ownerUserCounters_CREATE_MOVIE\n",
      "ownerUserCounters_CREATE_COMMENT\n",
      "ownerUserCounters_CREATE_LIKE\n",
      "ownerUserCounters_TEXT\n",
      "ownerUserCounters_IMAGE\n",
      "ownerUserCounters_VIDEO\n",
      "membership_status\n",
      "membership_statusUpdateDate\n",
      "membership_joinDate\n",
      "membership_joinRequestDate\n",
      "owner_create_date\n",
      "owner_birth_date\n",
      "owner_gender\n",
      "owner_status\n",
      "owner_ID_country\n",
      "owner_ID_Location\n",
      "owner_is_active\n",
      "owner_is_deleted\n",
      "owner_is_abused\n",
      "owner_is_activated\n",
      "owner_change_datime\n",
      "owner_is_semiactivated\n",
      "owner_region\n",
      "user_create_date\n",
      "user_birth_date\n",
      "user_gender\n",
      "user_status\n",
      "user_ID_country\n",
      "user_ID_Location\n",
      "user_is_active\n",
      "user_is_deleted\n",
      "user_is_abused\n",
      "user_is_activated\n",
      "user_change_datime\n",
      "user_is_semiactivated\n",
      "user_region\n",
      "feedback\n",
      "objectId\n",
      "auditweights_ageMs\n",
      "auditweights_closed\n",
      "auditweights_ctr_gender\n",
      "auditweights_ctr_high\n",
      "auditweights_ctr_negative\n",
      "auditweights_dailyRecency\n",
      "auditweights_feedOwner_RECOMMENDED_GROUP\n",
      "auditweights_feedStats\n",
      "auditweights_friendCommentFeeds\n",
      "auditweights_friendCommenters\n",
      "auditweights_friendLikes\n",
      "auditweights_friendLikes_actors\n",
      "auditweights_hasDetectedText\n",
      "auditweights_hasText\n",
      "auditweights_isPymk\n",
      "auditweights_isRandom\n",
      "auditweights_likersFeedStats_hyper\n",
      "auditweights_likersSvd_prelaunch_hyper\n",
      "auditweights_matrix\n",
      "auditweights_notOriginalPhoto\n",
      "auditweights_numDislikes\n",
      "auditweights_numLikes\n",
      "auditweights_numShows\n",
      "auditweights_onlineVideo\n",
      "auditweights_partAge\n",
      "auditweights_partCtr\n",
      "auditweights_partSvd\n",
      "auditweights_processedVideo\n",
      "auditweights_relationMasks\n",
      "auditweights_source_LIVE_TOP\n",
      "auditweights_source_MOVIE_TOP\n",
      "auditweights_svd_prelaunch\n",
      "auditweights_svd_spark\n",
      "auditweights_userAge\n",
      "auditweights_userOwner_CREATE_COMMENT\n",
      "auditweights_userOwner_CREATE_IMAGE\n",
      "auditweights_userOwner_CREATE_LIKE\n",
      "auditweights_userOwner_IMAGE\n",
      "auditweights_userOwner_MOVIE_COMMENT_CREATE\n",
      "auditweights_userOwner_PHOTO_COMMENT_CREATE\n",
      "auditweights_userOwner_PHOTO_MARK_CREATE\n",
      "auditweights_userOwner_PHOTO_VIEW\n",
      "auditweights_userOwner_TEXT\n",
      "auditweights_userOwner_UNKNOWN\n",
      "auditweights_userOwner_USER_DELETE_MESSAGE\n",
      "auditweights_userOwner_USER_FEED_REMOVE\n",
      "auditweights_userOwner_USER_FORUM_MESSAGE_CREATE\n",
      "auditweights_userOwner_USER_INTERNAL_LIKE\n",
      "auditweights_userOwner_USER_INTERNAL_UNLIKE\n",
      "auditweights_userOwner_USER_PRESENT_SEND\n",
      "auditweights_userOwner_USER_PROFILE_VIEW\n",
      "auditweights_userOwner_USER_SEND_MESSAGE\n",
      "auditweights_userOwner_USER_STATUS_COMMENT_CREATE\n",
      "auditweights_userOwner_VIDEO\n",
      "auditweights_userOwner_VOTE_POLL\n",
      "auditweights_x_ActorsRelations\n",
      "auditweights_likersSvd_spark_hyper\n",
      "auditweights_source_PROMO\n",
      "date\n"
     ]
    }
   ],
   "source": [
    "# посмотрим на список колонок\n",
    "\n",
    "for col in df_raw.columns:\n",
    "    print(col)\n"
   ]
  },
  {
   "cell_type": "code",
   "execution_count": 27,
   "metadata": {},
   "outputs": [
    {
     "name": "stderr",
     "output_type": "stream",
     "text": [
      "                                                                                \r"
     ]
    },
    {
     "name": "stdout",
     "output_type": "stream",
     "text": [
      "+----------+----------+------------------------------+\n",
      "| min(date)| max(date)|datediff(max(date), min(date))|\n",
      "+----------+----------+------------------------------+\n",
      "|2018-02-01|2018-03-21|                            48|\n",
      "+----------+----------+------------------------------+\n",
      "\n"
     ]
    }
   ],
   "source": [
    "# посмотрим минимальное, максимальное значение даты и разницу между ними\n",
    "spark.sql(\"\"\"\n",
    "    select min(date), max(date), datediff(max(date), min(date))\n",
    "    from df_raw\n",
    "\"\"\").show()"
   ]
  },
  {
   "cell_type": "markdown",
   "metadata": {},
   "source": [
    "#### будем считать, что если пользователь не совершал никаких действий более трех недель, то он уже и не вернется"
   ]
  },
  {
   "cell_type": "code",
   "execution_count": 28,
   "metadata": {},
   "outputs": [],
   "source": [
    "df_tgt = spark.sql(\"\"\"\n",
    "with cte_last_action as (\n",
    "    select instanceId_userId, max(date) as md from df_raw group by instanceId_userId\n",
    ")\n",
    ", cte_target as (\n",
    "    select \n",
    "        instanceId_userId\n",
    "        , case when datediff('2018-03-21', md) > 21 then 1 else 0 end as target\n",
    "    from cte_last_action\n",
    ") select e.*, t.target from df_raw e\n",
    "    join cte_target t on e.instanceId_userId = t.instanceId_userId\n",
    "\"\"\")\n",
    "\n",
    "df_tgt.createOrReplaceTempView(\"df_tgt\")"
   ]
  },
  {
   "cell_type": "code",
   "execution_count": 29,
   "metadata": {},
   "outputs": [
    {
     "name": "stderr",
     "output_type": "stream",
     "text": [
      "                                                                                \r"
     ]
    },
    {
     "name": "stdout",
     "output_type": "stream",
     "text": [
      "+------+--------+\n",
      "|target|count(1)|\n",
      "+------+--------+\n",
      "|     1| 1925038|\n",
      "|     0|16361537|\n",
      "+------+--------+\n",
      "\n"
     ]
    }
   ],
   "source": [
    "# посмотрим сколько у нас получилось оттёкших пользователей\n",
    "spark.sql(\"\"\"\n",
    "    select target, count(*) from df_tgt group by target\n",
    "\"\"\").show()"
   ]
  },
  {
   "cell_type": "markdown",
   "metadata": {},
   "source": [
    "# Подготовить признаки, обучить модель\n",
    "\n",
    "Выдвинем гипотезу, что отток напрямую зависит либо от общего кол-ва взаимодействий с пабликами в течение последних Х недель, или же от каких-то конкретных взаимодействий в течение последних Х недель"
   ]
  },
  {
   "cell_type": "code",
   "execution_count": null,
   "metadata": {},
   "outputs": [],
   "source": [
    "# расширим наш врейм, вытащив список реакций в каждую отдельную строку\n",
    "\n",
    "df_exp_tgt = spark.sql(\"\"\"\n",
    "    select \n",
    "        instanceId_userId\n",
    "        , explode(feedback) as fb_exp \n",
    "        , date\n",
    "        , target\n",
    "    from df_tgt t \n",
    "\"\"\")\n",
    "df_exp_tgt.createOrReplaceTempView(\"df_exp_tgt\")"
   ]
  },
  {
   "cell_type": "code",
   "execution_count": null,
   "metadata": {},
   "outputs": [],
   "source": [
    "# разобьем разницу между датой действия и последней даты на группы с шагом 3\n",
    "# , чтобы на выходе можно было посчитать кол-во действий в ретроспективе\n",
    "# , сгруппировав их по этим \"лагам времени\" и типам реакций\n",
    "\n",
    "df_bucket = spark.sql(\"\"\"\n",
    "    select \n",
    "        instanceId_userId\n",
    "        , explode(feedback) as fb_exp \n",
    "        , floor(datediff('2018-03-21',date) / 3) date_diff_bucket\n",
    "        , target\n",
    "    from df_tgt t \n",
    "    order by date\n",
    "\"\"\")\n",
    "\n",
    "df_bucket.createOrReplaceTempView(\"df_bucket\")"
   ]
  },
  {
   "cell_type": "code",
   "execution_count": null,
   "metadata": {},
   "outputs": [],
   "source": [
    "# сделаем фрейм с разбивкой по типу действия + недельному лагу\n",
    "\n",
    "df_act_type_lag = spark.sql(\"\"\"\n",
    "select \n",
    "    instanceId_userId\n",
    "    , concat(fb_exp, '_', date_diff_bucket) as act_type\n",
    "    , target\n",
    "from df_bucket\n",
    "\"\"\")\n",
    "\n",
    "df_pivot_act_type = df_act_type_lag\\\n",
    "    .groupBy(\"instanceId_userId\")\\\n",
    "    .pivot(\"act_type\")\\\n",
    "    .count()\\\n",
    "    .na.fill(0)\n",
    "\n",
    "df_pivot_act_type.createOrReplaceTempView(\"df_pivot_act_type\")\n",
    "\n",
    "# сделаем фрейм с разбивкой по недельному лагу\n",
    "df_lag = spark.sql(\"\"\"\n",
    "select \n",
    "    instanceId_userId\n",
    "    , concat('total_', date_diff_bucket) as total_lag\n",
    "    , target\n",
    "from df_bucket\n",
    "\"\"\")\n",
    "\n",
    "df_pivot_lag = df_lag\\\n",
    "    .groupBy(\"instanceId_userId\")\\\n",
    "    .pivot(\"total_lag\")\\\n",
    "    .count()\\\n",
    "    .na.fill(0)\n",
    "\n",
    "df_pivot_lag.createOrReplaceTempView(\"df_pivot_lag\")\n"
   ]
  },
  {
   "cell_type": "code",
   "execution_count": null,
   "metadata": {},
   "outputs": [],
   "source": [
    "# объединим это всё в один фрейм\n",
    "\n",
    "df_for_split = spark.sql(\"\"\"\n",
    "    select \n",
    "        -- pa.*\n",
    "        --, la.total_0 \n",
    "        --, la.total_1\n",
    "        --, la.total_2\n",
    "        --, la.total_3\n",
    "        --, la.total_4\n",
    "        --, la.total_5\n",
    "        --, la.total_6\n",
    "        la.*\n",
    "        , t.target\n",
    "    from df_tgt t\n",
    "    -- left join df_pivot_act_type pa on t.instanceId_userId = pa.instanceId_userId\n",
    "    left join df_pivot_lag la on t.instanceId_userId = la.instanceId_userId\n",
    "\"\"\")"
   ]
  },
  {
   "cell_type": "markdown",
   "metadata": {},
   "source": [
    "#### Таким образом, получили разряженную матрицу с кол-ом реакций, разбитых по неделям и по типам + неделям. "
   ]
  },
  {
   "cell_type": "code",
   "execution_count": null,
   "metadata": {},
   "outputs": [],
   "source": [
    "pdf_for_split = df_for_split.toPandas()\n",
    "'''\n",
    "df_for_split.coalesce(1) \\\n",
    "      .write \\\n",
    "      .option(\"header\",\"true\") \\\n",
    "      .option(\"sep\",\",\") \\\n",
    "      .mode(\"overwrite\") \\\n",
    "      .csv(\"train_pivot.csv\")\n",
    "'''"
   ]
  },
  {
   "cell_type": "code",
   "execution_count": 2,
   "metadata": {},
   "outputs": [],
   "source": [
    "# давайте посмотрим, что у нас в итоге получилось\n",
    "pdf_for_split = pd.read_csv(\"train_pivot.csv/part-00000-4ca47e80-0bb8-47e5-999d-4e076dcb4ebb-c000.csv\")"
   ]
  },
  {
   "cell_type": "code",
   "execution_count": 3,
   "metadata": {},
   "outputs": [],
   "source": [
    "corr = pdf_for_split.corr()"
   ]
  },
  {
   "cell_type": "code",
   "execution_count": 4,
   "metadata": {},
   "outputs": [
    {
     "data": {
      "text/plain": [
       "<AxesSubplot:>"
      ]
     },
     "execution_count": 4,
     "metadata": {},
     "output_type": "execute_result"
    },
    {
     "data": {
      "image/png": "[encoded data removed]",
      "text/plain": [
       "<Figure size 432x288 with 2 Axes>"
      ]
     },
     "metadata": {
      "needs_background": "light"
     },
     "output_type": "display_data"
    }
   ],
   "source": [
    "# plot the heatmap\n",
    "sns.heatmap(corr, \n",
    "        xticklabels=corr.columns,\n",
    "        yticklabels=corr.columns)"
   ]
  },
  {
   "cell_type": "markdown",
   "metadata": {},
   "source": [
    "<img src=\"Corr_heatmap.png\">"
   ]
  },
  {
   "cell_type": "markdown",
   "metadata": {},
   "source": [
    "Корреляция между признаками есть и достаточно высокая, однако она никакая между признаками и целевой переменной. Что странно, казалось, что последние недели должны быть сильно скоррелированы с целевой переменной. Ну да ладно, обучим модель и посмотрим на результаты."
   ]
  },
  {
   "cell_type": "code",
   "execution_count": 5,
   "metadata": {},
   "outputs": [
    {
     "name": "stdout",
     "output_type": "stream",
     "text": [
      "Collecting xgboost\n",
      "  Downloading xgboost-1.4.2-py3-none-manylinux2010_x86_64.whl (166.7 MB)\n",
      "\u001b[K     |████████████████████████████████| 166.7 MB 951 kB/s eta 0:00:01   |█▋                              | 8.6 MB 5.5 MB/s eta 0:00:29     |█▉                              | 9.6 MB 5.5 MB/s eta 0:00:29     |███                             | 16.1 MB 5.4 MB/s eta 0:00:28     |█████▉                          | 30.6 MB 1.0 MB/s eta 0:02:14     |███████▊                        | 40.5 MB 884 kB/s eta 0:02:23     |████████                        | 41.3 MB 884 kB/s eta 0:02:22     |██████████████▋                 | 76.3 MB 902 kB/s eta 0:01:41     |██████████████▊                 | 76.6 MB 902 kB/s eta 0:01:40     |██████████████▉                 | 77.2 MB 902 kB/s eta 0:01:40     |███████████████▎                | 79.3 MB 1.1 MB/s eta 0:01:18     |██████████████████              | 94.2 MB 879 kB/s eta 0:01:23     |██████████████████▏             | 94.6 MB 1.2 MB/s eta 0:01:01     |████████████████████▏           | 104.9 MB 1.2 MB/s eta 0:00:54     |███████████████████████▌        | 122.3 MB 893 kB/s eta 0:00:50     |████████████████████████▉       | 129.5 MB 865 kB/s eta 0:00:43     |██████████████████████████▉     | 139.6 MB 863 kB/s eta 0:00:32     |██████████████████████████▉     | 139.9 MB 863 kB/s eta 0:00:32     |███████████████████████████▋    | 144.0 MB 990 kB/s eta 0:00:23     |█████████████████████████████▉  | 155.3 MB 920 kB/s eta 0:00:13     |███████████████████████████████▉| 166.0 MB 891 kB/s eta 0:00:01\n",
      "\u001b[?25hRequirement already satisfied: scipy in /opt/conda/lib/python3.9/site-packages (from xgboost) (1.7.0)\n",
      "Requirement already satisfied: numpy in /opt/conda/lib/python3.9/site-packages (from xgboost) (1.21.0)\n",
      "Installing collected packages: xgboost\n",
      "Successfully installed xgboost-1.4.2\n"
     ]
    }
   ],
   "source": [
    "import sys\n",
    "!{sys.executable} -m pip install xgboost\n",
    "import xgboost"
   ]
  },
  {
   "cell_type": "code",
   "execution_count": 6,
   "metadata": {},
   "outputs": [],
   "source": [
    "features = ['total_1', 'total_2', 'total_3', 'total_4', 'total_5', 'total_6', \n",
    "            'total_7', 'total_8', 'total_9', 'total_10', 'total_11', 'total_12', \n",
    "            'total_13', 'total_14', 'total_15', 'total_16']\n",
    "\n",
    "X = pdf_for_split[features]\n",
    "y = pdf_for_split['target']"
   ]
  },
  {
   "cell_type": "code",
   "execution_count": 7,
   "metadata": {},
   "outputs": [],
   "source": [
    "# Разобьем датасет на трейн и тест\n",
    "from sklearn.model_selection import train_test_split\n",
    "X_train, X_test, y_train, y_test = train_test_split(X, y, test_size=0.33, random_state=42, shuffle=True)"
   ]
  },
  {
   "cell_type": "code",
   "execution_count": 8,
   "metadata": {},
   "outputs": [
    {
     "name": "stderr",
     "output_type": "stream",
     "text": [
      "/opt/conda/lib/python3.9/site-packages/xgboost/sklearn.py:1146: UserWarning: The use of label encoder in XGBClassifier is deprecated and will be removed in a future release. To remove this warning, do the following: 1) Pass option use_label_encoder=False when constructing XGBClassifier object; and 2) Encode your labels (y) as integers starting with 0, i.e. 0, 1, 2, ..., [num_class - 1].\n",
      "  warnings.warn(label_encoder_deprecation_msg, UserWarning)\n"
     ]
    },
    {
     "name": "stdout",
     "output_type": "stream",
     "text": [
      "[12:23:35] WARNING: ../src/learner.cc:1095: Starting in XGBoost 1.3.0, the default evaluation metric used with the objective 'binary:logistic' was changed from 'error' to 'logloss'. Explicitly set eval_metric if you'd like to restore the old behavior.\n"
     ]
    }
   ],
   "source": [
    "# Обучим модель из коробки\n",
    "model = xgboost.XGBClassifier().fit(X_train, y_train)"
   ]
  },
  {
   "cell_type": "code",
   "execution_count": 9,
   "metadata": {},
   "outputs": [],
   "source": [
    "test_pred = model.predict(X_test)"
   ]
  },
  {
   "cell_type": "code",
   "execution_count": 10,
   "metadata": {},
   "outputs": [
    {
     "data": {
      "text/plain": [
       "array([[5255867,  142934],\n",
       "       [  17284,  618485]])"
      ]
     },
     "execution_count": 10,
     "metadata": {},
     "output_type": "execute_result"
    }
   ],
   "source": [
    "from sklearn.metrics import confusion_matrix\n",
    "confusion_matrix(y_test, test_pred)"
   ]
  },
  {
   "cell_type": "code",
   "execution_count": 11,
   "metadata": {},
   "outputs": [
    {
     "data": {
      "text/plain": [
       "0.8853282450178502"
      ]
     },
     "execution_count": 11,
     "metadata": {},
     "output_type": "execute_result"
    }
   ],
   "source": [
    "from sklearn.metrics import f1_score\n",
    "f1_score(y_test, test_pred)"
   ]
  },
  {
   "cell_type": "markdown",
   "metadata": {},
   "source": [
    "Значение f1_score = 0.8853282450178502 - что есть очень даже не плохо, особенно для модели из коробки."
   ]
  },
  {
   "cell_type": "markdown",
   "metadata": {},
   "source": [
    "# Интерпретируем модель, сделать сегментацию пользователей."
   ]
  },
  {
   "cell_type": "code",
   "execution_count": 12,
   "metadata": {},
   "outputs": [
    {
     "name": "stdout",
     "output_type": "stream",
     "text": [
      "[0.15085818 0.20469584 0.14430043 0.17565031 0.18231624 0.1336763\n",
      " 0.00293394 0.00093219 0.00075878 0.00059899 0.00063925 0.00033791\n",
      " 0.00059512 0.00079652 0.00059846 0.00031149]\n"
     ]
    }
   ],
   "source": [
    "print(model.feature_importances_)"
   ]
  },
  {
   "cell_type": "code",
   "execution_count": 13,
   "metadata": {},
   "outputs": [
    {
     "data": {
      "image/png": "[encoded data removed]",
      "text/plain": [
       "<Figure size 432x288 with 1 Axes>"
      ]
     },
     "metadata": {
      "needs_background": "light"
     },
     "output_type": "display_data"
    }
   ],
   "source": [
    "from matplotlib import pyplot\n",
    "pyplot.bar(range(len(model.feature_importances_)), model.feature_importances_)\n",
    "pyplot.show()"
   ]
  },
  {
   "cell_type": "markdown",
   "metadata": {},
   "source": [
    "<img src=\"feature_importances.png\">"
   ]
  },
  {
   "cell_type": "code",
   "execution_count": 14,
   "metadata": {},
   "outputs": [
    {
     "data": {
      "image/png": "[encoded data removed]",
      "text/plain": [
       "<Figure size 432x288 with 1 Axes>"
      ]
     },
     "metadata": {
      "needs_background": "light"
     },
     "output_type": "display_data"
    }
   ],
   "source": [
    "# plot feature importance using built-in function\n",
    "from numpy import loadtxt\n",
    "from xgboost import plot_importance\n",
    "# plot feature importance\n",
    "plot_importance(model)\n",
    "pyplot.show()"
   ]
  },
  {
   "cell_type": "markdown",
   "metadata": {},
   "source": [
    "<img src=\"plot_importance.png\">"
   ]
  },
  {
   "cell_type": "markdown",
   "metadata": {},
   "source": [
    "Несмотря на то, что при расчёте корреляции не было видно зависимости целевой переменной от данных за последние три недели (total_1 - total_6), оценка ценности фичей XGBoost нам показывает ровно то, что мы ожидали увидеть - он принимает решение на основе ожидаемых нами фичей."
   ]
  },
  {
   "cell_type": "code",
   "execution_count": null,
   "metadata": {},
   "outputs": [],
   "source": []
  },
  {
   "cell_type": "code",
   "execution_count": 15,
   "metadata": {},
   "outputs": [],
   "source": [
    "# нормализуем данные\n",
    "scaler = StandardScaler()\n",
    "scaler.fit(X)\n",
    "X_norm = scaler.transform(X)\n"
   ]
  },
  {
   "cell_type": "code",
   "execution_count": 16,
   "metadata": {},
   "outputs": [
    {
     "name": "stdout",
     "output_type": "stream",
     "text": [
      "Calculating data for n_clusters=1\n",
      "Calculating data for n_clusters=2\n",
      "Calculating data for n_clusters=3\n",
      "Calculating data for n_clusters=4\n",
      "Calculating data for n_clusters=5\n",
      "Calculating data for n_clusters=6\n",
      "Calculating data for n_clusters=7\n",
      "Calculating data for n_clusters=8\n",
      "Calculating data for n_clusters=9\n",
      "Calculating data for n_clusters=10\n"
     ]
    },
    {
     "data": {
      "image/png": "[encoded data removed]",
      "text/plain": [
       "<Figure size 432x288 with 1 Axes>"
      ]
     },
     "metadata": {
      "needs_background": "light"
     },
     "output_type": "display_data"
    }
   ],
   "source": [
    "# воспользуемся методом локтя, чтобы определить кол-во кластеров\n",
    "sse = {}\n",
    "for k in range(1, 11):\n",
    "    print(f'Calculating data for n_clusters={k}')\n",
    "    kmeans = KMeans(n_clusters=k, random_state=42)\n",
    "    kmeans.fit(X_norm)\n",
    "    sse[k] = kmeans.inertia_ # SSE to closest cluster centroid\n",
    "    \n",
    "# отрисуем результат\n",
    "plt.title('The Elbow Method')\n",
    "plt.xlabel('k')\n",
    "plt.ylabel('SSE')\n",
    "sns.pointplot(x=list(sse.keys()), y=list(sse.values()))\n",
    "plt.show()"
   ]
  },
  {
   "cell_type": "markdown",
   "metadata": {},
   "source": [
    "<img src=\"elbow.png\">"
   ]
  },
  {
   "cell_type": "markdown",
   "metadata": {},
   "source": [
    "Как можно заметить на графике, при значении кол-ва кластеров болше 3х выходим на плато, следовательно будем делить пользователей на 3 кластера."
   ]
  },
  {
   "cell_type": "code",
   "execution_count": 17,
   "metadata": {},
   "outputs": [
    {
     "data": {
      "text/plain": [
       "KMeans(n_clusters=3, random_state=42)"
      ]
     },
     "execution_count": 17,
     "metadata": {},
     "output_type": "execute_result"
    }
   ],
   "source": [
    "# кластеризуем пользователей\n",
    "kmeans = KMeans(n_clusters=3, random_state=42)\n",
    "kmeans.fit(X_norm)"
   ]
  },
  {
   "cell_type": "code",
   "execution_count": 18,
   "metadata": {},
   "outputs": [
    {
     "name": "stderr",
     "output_type": "stream",
     "text": [
      "/opt/conda/lib/python3.9/site-packages/pandas/core/frame.py:3607: SettingWithCopyWarning: \n",
      "A value is trying to be set on a copy of a slice from a DataFrame.\n",
      "Try using .loc[row_indexer,col_indexer] = value instead\n",
      "\n",
      "See the caveats in the documentation: https://pandas.pydata.org/pandas-docs/stable/user_guide/indexing.html#returning-a-view-versus-a-copy\n",
      "  self._set_item(key, value)\n"
     ]
    }
   ],
   "source": [
    "# посчитаем средние по кластерам\n",
    "X['Cluster'] = kmeans.labels_\n",
    "X_cc = X.groupby('Cluster').agg({\n",
    "    'total_1':'mean'\n",
    "    , 'total_2':'mean'\n",
    "    , 'total_3':'mean'\n",
    "    , 'total_4':'mean'\n",
    "    , 'total_5':'mean'\n",
    "    , 'total_6':'mean'\n",
    "    , 'total_7':'mean'\n",
    "    , 'total_8':'mean'\n",
    "    , 'total_9':'mean'\n",
    "    , 'total_10':'mean'\n",
    "    , 'total_11':'mean'\n",
    "    , 'total_12':'mean'\n",
    "    , 'total_13':'mean'\n",
    "    , 'total_14':'mean'\n",
    "    , 'total_15':'mean'\n",
    "    , 'total_16':'mean'\n",
    "}).round(2)"
   ]
  },
  {
   "cell_type": "code",
   "execution_count": 19,
   "metadata": {},
   "outputs": [
    {
     "data": {
      "text/html": [
       "<div>\n",
       "<style scoped>\n",
       "    .dataframe tbody tr th:only-of-type {\n",
       "        vertical-align: middle;\n",
       "    }\n",
       "\n",
       "    .dataframe tbody tr th {\n",
       "        vertical-align: top;\n",
       "    }\n",
       "\n",
       "    .dataframe thead th {\n",
       "        text-align: right;\n",
       "    }\n",
       "</style>\n",
       "<table border=\"1\" class=\"dataframe\">\n",
       "  <thead>\n",
       "    <tr style=\"text-align: right;\">\n",
       "      <th></th>\n",
       "      <th>total_1</th>\n",
       "      <th>total_2</th>\n",
       "      <th>total_3</th>\n",
       "      <th>total_4</th>\n",
       "      <th>total_5</th>\n",
       "      <th>total_6</th>\n",
       "      <th>total_7</th>\n",
       "      <th>total_8</th>\n",
       "      <th>total_9</th>\n",
       "      <th>total_10</th>\n",
       "      <th>total_11</th>\n",
       "      <th>total_12</th>\n",
       "      <th>total_13</th>\n",
       "      <th>total_14</th>\n",
       "      <th>total_15</th>\n",
       "      <th>total_16</th>\n",
       "    </tr>\n",
       "    <tr>\n",
       "      <th>Cluster</th>\n",
       "      <th></th>\n",
       "      <th></th>\n",
       "      <th></th>\n",
       "      <th></th>\n",
       "      <th></th>\n",
       "      <th></th>\n",
       "      <th></th>\n",
       "      <th></th>\n",
       "      <th></th>\n",
       "      <th></th>\n",
       "      <th></th>\n",
       "      <th></th>\n",
       "      <th></th>\n",
       "      <th></th>\n",
       "      <th></th>\n",
       "      <th></th>\n",
       "    </tr>\n",
       "  </thead>\n",
       "  <tbody>\n",
       "    <tr>\n",
       "      <th>0</th>\n",
       "      <td>70.16</td>\n",
       "      <td>67.34</td>\n",
       "      <td>70.13</td>\n",
       "      <td>71.81</td>\n",
       "      <td>72.46</td>\n",
       "      <td>69.98</td>\n",
       "      <td>68.88</td>\n",
       "      <td>70.08</td>\n",
       "      <td>69.45</td>\n",
       "      <td>44.61</td>\n",
       "      <td>65.58</td>\n",
       "      <td>43.93</td>\n",
       "      <td>62.43</td>\n",
       "      <td>62.30</td>\n",
       "      <td>60.23</td>\n",
       "      <td>21.68</td>\n",
       "    </tr>\n",
       "    <tr>\n",
       "      <th>1</th>\n",
       "      <td>1.20</td>\n",
       "      <td>1.20</td>\n",
       "      <td>1.25</td>\n",
       "      <td>1.20</td>\n",
       "      <td>1.26</td>\n",
       "      <td>1.24</td>\n",
       "      <td>1.18</td>\n",
       "      <td>1.22</td>\n",
       "      <td>1.19</td>\n",
       "      <td>0.84</td>\n",
       "      <td>1.17</td>\n",
       "      <td>0.78</td>\n",
       "      <td>1.14</td>\n",
       "      <td>1.16</td>\n",
       "      <td>1.14</td>\n",
       "      <td>0.35</td>\n",
       "    </tr>\n",
       "    <tr>\n",
       "      <th>2</th>\n",
       "      <td>18.62</td>\n",
       "      <td>18.83</td>\n",
       "      <td>19.01</td>\n",
       "      <td>19.02</td>\n",
       "      <td>19.75</td>\n",
       "      <td>19.21</td>\n",
       "      <td>19.18</td>\n",
       "      <td>18.64</td>\n",
       "      <td>19.24</td>\n",
       "      <td>13.10</td>\n",
       "      <td>18.88</td>\n",
       "      <td>12.57</td>\n",
       "      <td>18.65</td>\n",
       "      <td>18.39</td>\n",
       "      <td>17.80</td>\n",
       "      <td>5.85</td>\n",
       "    </tr>\n",
       "  </tbody>\n",
       "</table>\n",
       "</div>"
      ],
      "text/plain": [
       "         total_1  total_2  total_3  total_4  total_5  total_6  total_7  \\\n",
       "Cluster                                                                  \n",
       "0          70.16    67.34    70.13    71.81    72.46    69.98    68.88   \n",
       "1           1.20     1.20     1.25     1.20     1.26     1.24     1.18   \n",
       "2          18.62    18.83    19.01    19.02    19.75    19.21    19.18   \n",
       "\n",
       "         total_8  total_9  total_10  total_11  total_12  total_13  total_14  \\\n",
       "Cluster                                                                       \n",
       "0          70.08    69.45     44.61     65.58     43.93     62.43     62.30   \n",
       "1           1.22     1.19      0.84      1.17      0.78      1.14      1.16   \n",
       "2          18.64    19.24     13.10     18.88     12.57     18.65     18.39   \n",
       "\n",
       "         total_15  total_16  \n",
       "Cluster                      \n",
       "0           60.23     21.68  \n",
       "1            1.14      0.35  \n",
       "2           17.80      5.85  "
      ]
     },
     "execution_count": 19,
     "metadata": {},
     "output_type": "execute_result"
    }
   ],
   "source": [
    "X_cc"
   ]
  },
  {
   "cell_type": "code",
   "execution_count": 21,
   "metadata": {},
   "outputs": [
    {
     "data": {
      "text/html": [
       "<div>\n",
       "<style scoped>\n",
       "    .dataframe tbody tr th:only-of-type {\n",
       "        vertical-align: middle;\n",
       "    }\n",
       "\n",
       "    .dataframe tbody tr th {\n",
       "        vertical-align: top;\n",
       "    }\n",
       "\n",
       "    .dataframe thead th {\n",
       "        text-align: right;\n",
       "    }\n",
       "</style>\n",
       "<table border=\"1\" class=\"dataframe\">\n",
       "  <thead>\n",
       "    <tr style=\"text-align: right;\">\n",
       "      <th></th>\n",
       "      <th>Cluster</th>\n",
       "      <th>Attribute</th>\n",
       "      <th>Value</th>\n",
       "    </tr>\n",
       "  </thead>\n",
       "  <tbody>\n",
       "    <tr>\n",
       "      <th>0</th>\n",
       "      <td>0</td>\n",
       "      <td>total_1</td>\n",
       "      <td>70.16</td>\n",
       "    </tr>\n",
       "    <tr>\n",
       "      <th>1</th>\n",
       "      <td>1</td>\n",
       "      <td>total_1</td>\n",
       "      <td>1.20</td>\n",
       "    </tr>\n",
       "    <tr>\n",
       "      <th>2</th>\n",
       "      <td>2</td>\n",
       "      <td>total_1</td>\n",
       "      <td>18.62</td>\n",
       "    </tr>\n",
       "    <tr>\n",
       "      <th>3</th>\n",
       "      <td>0</td>\n",
       "      <td>total_2</td>\n",
       "      <td>67.34</td>\n",
       "    </tr>\n",
       "    <tr>\n",
       "      <th>4</th>\n",
       "      <td>1</td>\n",
       "      <td>total_2</td>\n",
       "      <td>1.20</td>\n",
       "    </tr>\n",
       "  </tbody>\n",
       "</table>\n",
       "</div>"
      ],
      "text/plain": [
       "   Cluster Attribute  Value\n",
       "0        0   total_1  70.16\n",
       "1        1   total_1   1.20\n",
       "2        2   total_1  18.62\n",
       "3        0   total_2  67.34\n",
       "4        1   total_2   1.20"
      ]
     },
     "execution_count": 21,
     "metadata": {},
     "output_type": "execute_result"
    }
   ],
   "source": [
    "# построим графики для более наглядного представления данных по кластерам\n",
    "\n",
    "df_nor_melt = pd.melt(\n",
    "    X_cc.reset_index(),\n",
    "    id_vars=['Cluster'],\n",
    "    value_vars=features,\n",
    "    var_name='Attribute',\n",
    "    value_name='Value'\n",
    ")\n",
    "df_nor_melt.head()"
   ]
  },
  {
   "cell_type": "code",
   "execution_count": 22,
   "metadata": {},
   "outputs": [
    {
     "data": {
      "text/plain": [
       "<AxesSubplot:xlabel='Attribute', ylabel='Value'>"
      ]
     },
     "execution_count": 22,
     "metadata": {},
     "output_type": "execute_result"
    },
    {
     "data": {
      "image/png": "[encoded data removed]",
      "text/plain": [
       "<Figure size 1080x595.44 with 1 Axes>"
      ]
     },
     "metadata": {},
     "output_type": "display_data"
    }
   ],
   "source": [
    "sns.set(rc={'figure.figsize':(15,8.27)})\n",
    "sns.lineplot(x='Attribute', y='Value', hue='Cluster', data=df_nor_melt, markers=True, dashes=False)"
   ]
  },
  {
   "cell_type": "markdown",
   "metadata": {},
   "source": [
    "<img src=\"clusters.png\">"
   ]
  },
  {
   "cell_type": "markdown",
   "metadata": {},
   "source": [
    "Наших пользователей явно можно поделить на 3 группы:\n",
    "* Высоко активные пользователи, в среднем взаимодействуют с группами около 60 раз в течение трех дней (Cluster 0)\n",
    "* Средне активные пользователи, в среднем взаимодействуют с группами около 18 раз в течение трех дней (Cluster 2)\n",
    "* Изначально мертвые пользователи, которые вообще практически не взаимодействуют с группами (Cluster 1)"
   ]
  },
  {
   "cell_type": "markdown",
   "metadata": {},
   "source": [
    "# Выдвигаем гипотезы\n",
    "\n",
    "На мой взгляд это всё будет \"пальцем в небо\" т.к. никакого контекста мы не имеем, а без него генерить идеи немного проблематично =) Но все же попробуем. \n",
    "\n",
    "Посольку наш кластер \"Cluster 1\" отображает пользователей, которые, судя по всему, даже не начинают взаимодействовать с постами\\группами, можно предположить следующее:\n",
    "\n",
    "* Пользователи регистрируются, но не могут разобраться в интефейсе и уходят. Данная проблема может вылечиться онбордингом. Можно сделать небольшой процесс обучения, который подсветит для пользователя основные элементы интерфейса и кратко опишет как проходить тот или иной процесс поиска групп \\ событий \\ друзей и т.д.\n",
    "\n",
    "* Пользователи регистрируются, интерфейс им понятен, но они не могут найти интересующие их группы. В данном случае можно попробовать улучшить поисковый механизм, например при помощи Elasticsearch. Далеко не все пользователи пишут грамотно, они могут допускать опечатки или использовать синонимы \\ жаргонные слова при поиске. При помощи Elasticsearch можно покрыть все эти кейсы.\n",
    "\n",
    "* Пользователи умеют в поиск, пишут грамотно, но им просто лень искать нужные группы. Данную проблему можно попробовать вылечить при помощи рекомендательных систем. В качестве холодного старта можно рекомендовать самые популярные группы среди пользователей того же города \\ пола + возраста и т.д. Можно собрать с пользователей их интересы и рекомендовать группы на основе их предпочтений. Кроме того, можно рекомендовать самые популярные группы среди тех, на которые подписаны люди из тех же групп в которых пользователь уже состоит. "
   ]
  },
  {
   "cell_type": "code",
   "execution_count": null,
   "metadata": {},
   "outputs": [],
   "source": []
  }
 ],
 "metadata": {
  "kernelspec": {
   "display_name": "Python 3 (ipykernel)",
   "language": "python",
   "name": "python3"
  },
  "language_info": {
   "codemirror_mode": {
    "name": "ipython",
    "version": 3
   },
   "file_extension": ".py",
   "mimetype": "text/x-python",
   "name": "python",
   "nbconvert_exporter": "python",
   "pygments_lexer": "ipython3",
   "version": "3.9.5"
  }
 },
 "nbformat": 4,
 "nbformat_minor": 2
}
